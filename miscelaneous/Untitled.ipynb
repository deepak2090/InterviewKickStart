{
 "cells": [
  {
   "cell_type": "code",
   "execution_count": 1,
   "id": "311b9f59",
   "metadata": {},
   "outputs": [],
   "source": [
    "a = [1,2,3,4,5,6,7,8,9]\n",
    "result = []\n",
    "k = 3\n",
    "for i in range(len(a)-k):\n",
    "    result.append(a[:k])"
   ]
  },
  {
   "cell_type": "code",
   "execution_count": 2,
   "id": "65302b4f",
   "metadata": {},
   "outputs": [
    {
     "data": {
      "text/plain": [
       "[1, 2, 3, 4, 5, 6, 7, 8, 9]"
      ]
     },
     "execution_count": 2,
     "metadata": {},
     "output_type": "execute_result"
    }
   ],
   "source": [
    "a"
   ]
  },
  {
   "cell_type": "code",
   "execution_count": 3,
   "id": "805ba580",
   "metadata": {},
   "outputs": [
    {
     "data": {
      "text/plain": [
       "[[1, 2, 3], [1, 2, 3], [1, 2, 3], [1, 2, 3], [1, 2, 3], [1, 2, 3]]"
      ]
     },
     "execution_count": 3,
     "metadata": {},
     "output_type": "execute_result"
    }
   ],
   "source": [
    "result"
   ]
  },
  {
   "cell_type": "code",
   "execution_count": 4,
   "id": "86fb1972",
   "metadata": {},
   "outputs": [],
   "source": [
    "string1 = \"hellodeepak\""
   ]
  },
  {
   "cell_type": "code",
   "execution_count": 7,
   "id": "c1d865e2",
   "metadata": {},
   "outputs": [
    {
     "ename": "TypeError",
     "evalue": "'str' object does not support item assignment",
     "output_type": "error",
     "traceback": [
      "\u001b[0;31m---------------------------------------------------------------------------\u001b[0m",
      "\u001b[0;31mTypeError\u001b[0m                                 Traceback (most recent call last)",
      "Cell \u001b[0;32mIn[7], line 6\u001b[0m\n\u001b[1;32m      4\u001b[0m         string[i], string[\u001b[38;5;241m-\u001b[39m\u001b[38;5;241m1\u001b[39m\u001b[38;5;241m-\u001b[39mi] \u001b[38;5;241m=\u001b[39m string[\u001b[38;5;241m-\u001b[39m\u001b[38;5;241m1\u001b[39m\u001b[38;5;241m-\u001b[39mi], string[i]\n\u001b[1;32m      5\u001b[0m     \u001b[38;5;28;01mreturn\u001b[39;00m string\n\u001b[0;32m----> 6\u001b[0m \u001b[43mreversestring\u001b[49m\u001b[43m(\u001b[49m\u001b[43mstring1\u001b[49m\u001b[43m)\u001b[49m\n",
      "Cell \u001b[0;32mIn[7], line 4\u001b[0m, in \u001b[0;36mreversestring\u001b[0;34m(string)\u001b[0m\n\u001b[1;32m      2\u001b[0m \u001b[38;5;28;01mdef\u001b[39;00m \u001b[38;5;21mreversestring\u001b[39m(string):\n\u001b[1;32m      3\u001b[0m     \u001b[38;5;28;01mfor\u001b[39;00m i \u001b[38;5;129;01min\u001b[39;00m \u001b[38;5;28mrange\u001b[39m(\u001b[38;5;28mlen\u001b[39m(string)):\n\u001b[0;32m----> 4\u001b[0m         string[i], string[\u001b[38;5;241m-\u001b[39m\u001b[38;5;241m1\u001b[39m\u001b[38;5;241m-\u001b[39mi] \u001b[38;5;241m=\u001b[39m string[\u001b[38;5;241m-\u001b[39m\u001b[38;5;241m1\u001b[39m\u001b[38;5;241m-\u001b[39mi], string[i]\n\u001b[1;32m      5\u001b[0m     \u001b[38;5;28;01mreturn\u001b[39;00m string\n",
      "\u001b[0;31mTypeError\u001b[0m: 'str' object does not support item assignment"
     ]
    }
   ],
   "source": [
    "string1 = \"hellodeepak\"\n",
    "def reversestring(string):\n",
    "    for i in range(len(string)):\n",
    "        string[i], string[-1-i] = string[-1-i], string[i]\n",
    "    return string\n",
    "reversestring(string1)\n",
    "    "
   ]
  },
  {
   "cell_type": "code",
   "execution_count": 8,
   "id": "8dbf17d7",
   "metadata": {},
   "outputs": [],
   "source": [
    "string = \"deepak\""
   ]
  },
  {
   "cell_type": "code",
   "execution_count": 9,
   "id": "8a638387",
   "metadata": {},
   "outputs": [
    {
     "data": {
      "text/plain": [
       "'d'"
      ]
     },
     "execution_count": 9,
     "metadata": {},
     "output_type": "execute_result"
    }
   ],
   "source": [
    "string[0]"
   ]
  },
  {
   "cell_type": "code",
   "execution_count": 10,
   "id": "25990bc6",
   "metadata": {},
   "outputs": [
    {
     "ename": "SyntaxError",
     "evalue": "invalid syntax (2919915719.py, line 10)",
     "output_type": "error",
     "traceback": [
      "\u001b[0;36m  Cell \u001b[0;32mIn[10], line 10\u001b[0;36m\u001b[0m\n\u001b[0;31m    All of these methods will reverse the order of characters in the input string. You can choose the method that you find most intuitive or readable. Remember that strings in Python are immutable, so each of these methods creates a new string with the reversed order of characters.\u001b[0m\n\u001b[0m        ^\u001b[0m\n\u001b[0;31mSyntaxError\u001b[0m\u001b[0;31m:\u001b[0m invalid syntax\n"
     ]
    }
   ],
   "source": [
    "def reverse_string(s):\n",
    "    reversed_str = ''\n",
    "    for char in s:\n",
    "        reversed_str = char + reversed_str\n",
    "    return reversed_str\n",
    "\n",
    "original_string = \"Hello, World!\"\n",
    "reversed_string = reverse_string(original_string)\n",
    "print(reversed_string)  # Output: \"!dlroW ,olleH\"\n",
    "All of these methods will reverse the order of characters in the input string. You can choose the method that you find most intuitive or readable. Remember that strings in Python are immutable, so each of these methods creates a new string with the reversed order of characters.\n",
    "\n",
    "\n",
    "\n",
    "\n",
    "\n"
   ]
  },
  {
   "cell_type": "code",
   "execution_count": 11,
   "id": "db6b1486",
   "metadata": {},
   "outputs": [
    {
     "name": "stdout",
     "output_type": "stream",
     "text": [
      "!dlroW ,olleH\n"
     ]
    }
   ],
   "source": [
    "def reverse_string(s):\n",
    "    reversed_str = ''\n",
    "    for char in s:\n",
    "        reversed_str = char + reversed_str\n",
    "    return reversed_str\n",
    "\n",
    "original_string = \"Hello, World!\"\n",
    "reversed_string = reverse_string(original_string)\n",
    "print(reversed_string)  # Output: \"!dlroW ,olleH\"\n",
    "\n",
    "\n",
    "\n",
    "\n"
   ]
  },
  {
   "cell_type": "code",
   "execution_count": 12,
   "id": "19092cde",
   "metadata": {},
   "outputs": [
    {
     "name": "stdout",
     "output_type": "stream",
     "text": [
      "Hello, World!\n"
     ]
    }
   ],
   "source": [
    "def reverse_string(s):\n",
    "    reversed_str = ''\n",
    "    for char in s:\n",
    "        reversed_str = reversed_str + char \n",
    "    return reversed_str\n",
    "\n",
    "original_string = \"Hello, World!\"\n",
    "reversed_string = reverse_string(original_string)\n",
    "print(reversed_string)  # Output: \"!dlroW ,olleH\""
   ]
  },
  {
   "cell_type": "code",
   "execution_count": 13,
   "id": "681bc0f5",
   "metadata": {},
   "outputs": [
    {
     "name": "stdout",
     "output_type": "stream",
     "text": [
      "!dlroW ,olleH\n"
     ]
    }
   ],
   "source": [
    "def reverse_string(s):\n",
    "    reversed_str = ''\n",
    "    for char in s:\n",
    "        reversed_str = char + reversed_str\n",
    "    return reversed_str\n",
    "\n",
    "original_string = \"Hello, World!\"\n",
    "reversed_string = reverse_string(original_string)\n",
    "print(reversed_string)  # Output: \"!dlroW ,olleH\""
   ]
  },
  {
   "cell_type": "code",
   "execution_count": 14,
   "id": "8641a963",
   "metadata": {},
   "outputs": [
    {
     "data": {
      "text/plain": [
       "'kapeedolleh'"
      ]
     },
     "execution_count": 14,
     "metadata": {},
     "output_type": "execute_result"
    }
   ],
   "source": [
    "string1 = \"hellodeepak\"\n",
    "\n",
    "def reversestring(string):\n",
    "    char_list = list(string)\n",
    "    for i in range(len(char_list)//2):\n",
    "        char_list[i], char_list[-1-i] = char_list[-1-i], char_list[i]\n",
    "    return \"\".join(char_list)\n",
    "reversestring(string1)"
   ]
  },
  {
   "cell_type": "code",
   "execution_count": 15,
   "id": "f8589013",
   "metadata": {},
   "outputs": [],
   "source": [
    "string1 = \"das\""
   ]
  },
  {
   "cell_type": "code",
   "execution_count": 16,
   "id": "ecdcbf6d",
   "metadata": {},
   "outputs": [
    {
     "data": {
      "text/plain": [
       "'sad'"
      ]
     },
     "execution_count": 16,
     "metadata": {},
     "output_type": "execute_result"
    }
   ],
   "source": [
    "reversestring(string1)"
   ]
  },
  {
   "cell_type": "code",
   "execution_count": 17,
   "id": "d0f4899c",
   "metadata": {},
   "outputs": [],
   "source": [
    "string1 = \"deepak\""
   ]
  },
  {
   "cell_type": "code",
   "execution_count": 18,
   "id": "5541eed1",
   "metadata": {},
   "outputs": [
    {
     "data": {
      "text/plain": [
       "'kapeed'"
      ]
     },
     "execution_count": 18,
     "metadata": {},
     "output_type": "execute_result"
    }
   ],
   "source": [
    "reversestring(string1)"
   ]
  },
  {
   "cell_type": "code",
   "execution_count": 19,
   "id": "7bd1997d",
   "metadata": {},
   "outputs": [],
   "source": [
    "string1 = \"deep\""
   ]
  },
  {
   "cell_type": "code",
   "execution_count": 20,
   "id": "8d3e13f0",
   "metadata": {},
   "outputs": [],
   "source": [
    "string = \"abcd\""
   ]
  },
  {
   "cell_type": "code",
   "execution_count": 21,
   "id": "77fdb9de",
   "metadata": {},
   "outputs": [
    {
     "data": {
      "text/plain": [
       "'dcba'"
      ]
     },
     "execution_count": 21,
     "metadata": {},
     "output_type": "execute_result"
    }
   ],
   "source": [
    "reversestring(string)"
   ]
  },
  {
   "cell_type": "code",
   "execution_count": 24,
   "id": "ffd8c42f",
   "metadata": {},
   "outputs": [
    {
     "data": {
      "text/plain": [
       "['',\n",
       " 'k',\n",
       " 'a',\n",
       " 'ak',\n",
       " 'p',\n",
       " 'pk',\n",
       " 'pa',\n",
       " 'pak',\n",
       " 'e',\n",
       " 'ek',\n",
       " 'ea',\n",
       " 'eak',\n",
       " 'ep',\n",
       " 'epk',\n",
       " 'epa',\n",
       " 'epak',\n",
       " 'e',\n",
       " 'ek',\n",
       " 'ea',\n",
       " 'eak',\n",
       " 'ep',\n",
       " 'epk',\n",
       " 'epa',\n",
       " 'epak',\n",
       " 'ee',\n",
       " 'eek',\n",
       " 'eea',\n",
       " 'eeak',\n",
       " 'eep',\n",
       " 'eepk',\n",
       " 'eepa',\n",
       " 'eepak',\n",
       " 'd',\n",
       " 'dk',\n",
       " 'da',\n",
       " 'dak',\n",
       " 'dp',\n",
       " 'dpk',\n",
       " 'dpa',\n",
       " 'dpak',\n",
       " 'de',\n",
       " 'dek',\n",
       " 'dea',\n",
       " 'deak',\n",
       " 'dep',\n",
       " 'depk',\n",
       " 'depa',\n",
       " 'depak',\n",
       " 'de',\n",
       " 'dek',\n",
       " 'dea',\n",
       " 'deak',\n",
       " 'dep',\n",
       " 'depk',\n",
       " 'depa',\n",
       " 'depak',\n",
       " 'dee',\n",
       " 'deek',\n",
       " 'deea',\n",
       " 'deeak',\n",
       " 'deep',\n",
       " 'deepk',\n",
       " 'deepa',\n",
       " 'deepak']"
      ]
     },
     "execution_count": 24,
     "metadata": {},
     "output_type": "execute_result"
    }
   ],
   "source": [
    "s= 'deepak'\n",
    "def generatesubset(str):\n",
    "    result = []\n",
    "    def helper(s,i, slate):\n",
    "        if i == len(s):\n",
    "            result.append(\"\".join(slate[:]))\n",
    "        else:\n",
    "            helper(s,i+1,slate)\n",
    "            slate.append(s[i])\n",
    "            helper(s,i+1,slate)\n",
    "            slate.pop()\n",
    "    helper(str, 0 , [])\n",
    "    return result\n",
    "            \n",
    "generatesubset(s)    "
   ]
  },
  {
   "cell_type": "code",
   "execution_count": null,
   "id": "ebb95cf1",
   "metadata": {},
   "outputs": [],
   "source": []
  }
 ],
 "metadata": {
  "kernelspec": {
   "display_name": "Python 3 (ipykernel)",
   "language": "python",
   "name": "python3"
  },
  "language_info": {
   "codemirror_mode": {
    "name": "ipython",
    "version": 3
   },
   "file_extension": ".py",
   "mimetype": "text/x-python",
   "name": "python",
   "nbconvert_exporter": "python",
   "pygments_lexer": "ipython3",
   "version": "3.10.12"
  }
 },
 "nbformat": 4,
 "nbformat_minor": 5
}

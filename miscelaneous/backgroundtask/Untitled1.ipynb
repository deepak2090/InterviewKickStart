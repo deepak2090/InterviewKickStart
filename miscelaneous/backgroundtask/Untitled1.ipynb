{
 "cells": [
  {
   "cell_type": "code",
   "execution_count": 32,
   "id": "a1b08b33",
   "metadata": {},
   "outputs": [
    {
     "name": "stdout",
     "output_type": "stream",
     "text": [
      "list1 is [5, 6, 1, 33, 9, -13, 2]\n"
     ]
    },
    {
     "data": {
      "text/plain": [
       "[-13, 1, 2, 5, 6, 9, 33]"
      ]
     },
     "execution_count": 32,
     "metadata": {},
     "output_type": "execute_result"
    }
   ],
   "source": [
    "#decrease and conquer algorithm\n",
    "\n",
    "list1 = [5,6,1,33,9,-13,2]\n",
    "print(\"list1 is\", list1)\n",
    "def insertionsort(array):\n",
    "    for i in range(len(array)):\n",
    "        array[i:] = helpersort(array[i:])\n",
    "    return array\n",
    "        \n",
    "    \n",
    "\n",
    "def helpersort(list1):\n",
    "    min = float('inf')\n",
    "    minidx = -1\n",
    "    for idx in range(len(list1)):\n",
    "        if list1[idx ] < min:\n",
    "            min = list1[idx]\n",
    "            minidx = idx\n",
    "    if minidx != -1:\n",
    "        list1[0], list1[minidx] = list1[minidx] , list1[0]\n",
    "    return list1\n",
    "\n",
    "insertionsort(list1)"
   ]
  },
  {
   "cell_type": "code",
   "execution_count": 52,
   "id": "099b9456",
   "metadata": {},
   "outputs": [
    {
     "name": "stdout",
     "output_type": "stream",
     "text": [
      "list1 is [5, 6, 1, 33, 9, -13, 2]\n",
      "[5, 6, 1, 33, 9, -13, 2]\n",
      "[6, 1, 33, 9, 5, 2]\n",
      "[6, 33, 9, 5, 2]\n",
      "[33, 9, 5, 6]\n",
      "[9, 33, 6]\n",
      "[33, 9]\n",
      "[33]\n",
      "the sort is [-13, 1, 2, 5, 6, 9, 33]\n"
     ]
    }
   ],
   "source": [
    "#using complete recurrsion:\n",
    "\n",
    "#decrease and conquer algorithm\n",
    "\n",
    "list1 = [5,6,1,33,9,-13,2]\n",
    "list2 = [5,6,1,33,9,-13,2].sort()\n",
    "print(\"list1 is\", list1)\n",
    "def insertionsort(array):\n",
    "    \n",
    "    helpersortnew(array , 0 , len(array))\n",
    "    return array\n",
    "\n",
    "def helpersortnew(list1, start, end):\n",
    "    if start <= end:\n",
    "        min_val = float('inf')\n",
    "        \n",
    "        min_idx = -1\n",
    "        subarray = list1[start:end]\n",
    "        for idx in range(len(subarray)):\n",
    "            if subarray[idx ] < min_val:\n",
    "                min_val = subarray[idx]\n",
    "                min_idx = idx\n",
    "        if min_idx != -1:\n",
    "            print(subarray)\n",
    "            subarray[0], subarray[min_idx] = subarray[min_idx] , subarray[0]\n",
    "            list1[start:end] = subarray\n",
    "        helpersortnew(list1, start+1,end)\n",
    "\n",
    "    \n",
    "\n",
    "print(\"the sort is\",insertionsort(list1))"
   ]
  },
  {
   "cell_type": "code",
   "execution_count": null,
   "id": "bee09896",
   "metadata": {},
   "outputs": [],
   "source": []
  },
  {
   "cell_type": "code",
   "execution_count": null,
   "id": "1f0a4982",
   "metadata": {},
   "outputs": [],
   "source": []
  }
 ],
 "metadata": {
  "kernelspec": {
   "display_name": "Python 3 (ipykernel)",
   "language": "python",
   "name": "python3"
  },
  "language_info": {
   "codemirror_mode": {
    "name": "ipython",
    "version": 3
   },
   "file_extension": ".py",
   "mimetype": "text/x-python",
   "name": "python",
   "nbconvert_exporter": "python",
   "pygments_lexer": "ipython3",
   "version": "3.10.12"
  }
 },
 "nbformat": 4,
 "nbformat_minor": 5
}

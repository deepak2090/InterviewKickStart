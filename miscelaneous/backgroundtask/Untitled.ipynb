{
 "cells": [
  {
   "cell_type": "code",
   "execution_count": 76,
   "id": "6815d2d2",
   "metadata": {},
   "outputs": [],
   "source": [
    "import heapq\n",
    "list1 = [1,4,-7,3]\n",
    "max_heap = [-num for num in list1]"
   ]
  },
  {
   "cell_type": "code",
   "execution_count": 77,
   "id": "f38bd2ce",
   "metadata": {},
   "outputs": [],
   "source": [
    "for k in range(1):\n",
    "    heapq.heapify(max_heap)\n",
    "    heapq.heappop(max_heap)"
   ]
  },
  {
   "cell_type": "code",
   "execution_count": 78,
   "id": "845720fe",
   "metadata": {},
   "outputs": [
    {
     "data": {
      "text/plain": [
       "-3"
      ]
     },
     "execution_count": 78,
     "metadata": {},
     "output_type": "execute_result"
    }
   ],
   "source": [
    "heapq.heappop(max_heap)"
   ]
  },
  {
   "cell_type": "code",
   "execution_count": 79,
   "id": "542ec5e8",
   "metadata": {},
   "outputs": [
    {
     "data": {
      "text/plain": [
       "[-1, 7]"
      ]
     },
     "execution_count": 79,
     "metadata": {},
     "output_type": "execute_result"
    }
   ],
   "source": [
    "max_heap"
   ]
  },
  {
   "cell_type": "code",
   "execution_count": null,
   "id": "843cca6d",
   "metadata": {},
   "outputs": [],
   "source": []
  }
 ],
 "metadata": {
  "kernelspec": {
   "display_name": "Python 3 (ipykernel)",
   "language": "python",
   "name": "python3"
  },
  "language_info": {
   "codemirror_mode": {
    "name": "ipython",
    "version": 3
   },
   "file_extension": ".py",
   "mimetype": "text/x-python",
   "name": "python",
   "nbconvert_exporter": "python",
   "pygments_lexer": "ipython3",
   "version": "3.10.12"
  }
 },
 "nbformat": 4,
 "nbformat_minor": 5
}

{
 "cells": [
  {
   "cell_type": "code",
   "execution_count": 1,
   "id": "99f290ff",
   "metadata": {},
   "outputs": [],
   "source": [
    "    def repeatedSubstringPattern(s: str) -> bool:\n",
    "        if len(s) ==1:\n",
    "            return False\n",
    "        i = 1\n",
    "        x = False\n",
    "        while i <len(s):\n",
    "            uniquechar = s[:i]\n",
    "            print(uniquechar,i)\n",
    "            if len(s)//len(uniquechar) * uniquechar == s:\n",
    "                x = True\n",
    "                break\n",
    "            else:\n",
    "                i+=1\n",
    "                #print(uniquechar, i)\n",
    "        return x"
   ]
  },
  {
   "cell_type": "code",
   "execution_count": 2,
   "id": "c4d0ecce",
   "metadata": {},
   "outputs": [],
   "source": [
    "x = \"abcabcabcabcd\""
   ]
  },
  {
   "cell_type": "code",
   "execution_count": 3,
   "id": "ad47c6b2",
   "metadata": {
    "scrolled": true
   },
   "outputs": [],
   "source": [
    "repeatedSubstringPattern(x)"
   ]
  },
  {
   "cell_type": "code",
   "execution_count": 4,
   "id": "f3e0ebde",
   "metadata": {},
   "outputs": [],
   "source": [
    "robbed = max(5,7)"
   ]
  },
  {
   "cell_type": "code",
   "execution_count": 5,
   "id": "1c0b4f7a",
   "metadata": {
    "scrolled": true
   },
   "outputs": [],
   "source": [
    "robbed"
   ]
  },
  {
   "cell_type": "code",
   "execution_count": 6,
   "id": "7c955af1",
   "metadata": {},
   "outputs": [],
   "source": [
    "[0] *2"
   ]
  },
  {
   "cell_type": "code",
   "execution_count": 7,
   "id": "62cd8ea5",
   "metadata": {},
   "outputs": [],
   "source": [
    "x = float('inf')"
   ]
  },
  {
   "cell_type": "code",
   "execution_count": 8,
   "id": "4d069a1c",
   "metadata": {},
   "outputs": [],
   "source": [
    "x = 2"
   ]
  },
  {
   "cell_type": "code",
   "execution_count": 9,
   "id": "d8882584",
   "metadata": {},
   "outputs": [],
   "source": [
    "def fib(n):\n",
    "    memo = {}\n",
    "    if n == 0:\n",
    "        memo[0] = 0\n",
    "        return 0\n",
    "    elif n==1:\n",
    "        memo[1] = 1\n",
    "        return 1\n",
    "    else:\n",
    "        if n not in memo:\n",
    "            memo[n] = fib(n-1) + fib(n-2)\n",
    "    return memo[n]\n",
    "    "
   ]
  },
  {
   "cell_type": "code",
   "execution_count": 10,
   "id": "6b714d3b",
   "metadata": {
    "scrolled": true
   },
   "outputs": [],
   "source": [
    "fib(5)"
   ]
  },
  {
   "cell_type": "code",
   "execution_count": 11,
   "id": "c9bffbf7",
   "metadata": {},
   "outputs": [],
   "source": [
    "fib(7)"
   ]
  },
  {
   "cell_type": "code",
   "execution_count": 12,
   "id": "e36b0162",
   "metadata": {
    "scrolled": false
   },
   "outputs": [],
   "source": [
    "for i in range(20):\n",
    "    print(fib(i))"
   ]
  },
  {
   "cell_type": "code",
   "execution_count": 13,
   "id": "cc84d7c2",
   "metadata": {},
   "outputs": [
    {
     "name": "stdout",
     "output_type": "stream",
     "text": [
      "Salt:  b'$2b$12$MC8j.L6bSQaswk5jK/qDEe'\n",
      "Hashed Password:  $2b$12$MC8j.L6bSQaswk5jK/qDEeNWaKJTlxa/GIEA/l.RY7g5yEcKtVXB2\n"
     ]
    }
   ],
   "source": [
    "import bcrypt\n",
    "\n",
    "# Replace 'user_password' with the actual password you want to hash\n",
    "user_password = \"my_secure_password\".encode('utf-8')\n",
    "\n",
    "# Generate a salt and hash the password\n",
    "salt = bcrypt.gensalt()\n",
    "hashed_password = bcrypt.hashpw(user_password, salt)\n",
    "\n",
    "print(\"Salt: \", salt)\n",
    "print(\"Hashed Password: \", hashed_password.decode('utf-8'))"
   ]
  },
  {
   "cell_type": "code",
   "execution_count": 14,
   "id": "092b9639",
   "metadata": {},
   "outputs": [
    {
     "name": "stdout",
     "output_type": "stream",
     "text": [
      "Salt:  b'$2b$12$gV6NYeIpu3GOg9votvAwtu'\n",
      "Hashed Password:  $2b$12$gV6NYeIpu3GOg9votvAwtuDEmnLytltc9hgajuQp8gQ.LteJmKQ7u\n"
     ]
    }
   ],
   "source": [
    "import bcrypt\n",
    "\n",
    "# Replace 'user_password' with the actual password you want to hash\n",
    "user_password = \"123456\".encode('utf-8')\n",
    "\n",
    "# Generate a salt and hash the password\n",
    "salt = bcrypt.gensalt()\n",
    "hashed_password = bcrypt.hashpw(user_password, salt)\n",
    "\n",
    "print(\"Salt: \", salt)\n",
    "print(\"Hashed Password: \", hashed_password.decode('utf-8'))\n"
   ]
  },
  {
   "cell_type": "code",
   "execution_count": null,
   "id": "30390e78",
   "metadata": {},
   "outputs": [],
   "source": []
  },
  {
   "cell_type": "code",
   "execution_count": 15,
   "id": "9462b0fa",
   "metadata": {},
   "outputs": [
    {
     "name": "stdout",
     "output_type": "stream",
     "text": [
      "Password is correct.\n"
     ]
    }
   ],
   "source": [
    "# Replace 'stored_hashed_password' with the hashed password retrieved from the database\n",
    "stored_hashed_password = \"$2b$12$dXZ4NcjMNkrpOzA2gCvI0e/TvQtNH9k3v9Lseb9lmcTCjMT951RQS\"  # Retrieve this from your database\n",
    "\n",
    "# Replace 'user_password' with the password entered by the user during login\n",
    "user_password = \"123456\".encode('utf-8')\n",
    "\n",
    "# Verify the password\n",
    "if bcrypt.checkpw(user_password, stored_hashed_password.encode('utf-8')):\n",
    "    print(\"Password is correct.\")\n",
    "else:\n",
    "    print(\"Password is incorrect.\")"
   ]
  },
  {
   "cell_type": "code",
   "execution_count": 16,
   "id": "d6886aab",
   "metadata": {},
   "outputs": [],
   "source": [
    "x = float('inf')"
   ]
  },
  {
   "cell_type": "code",
   "execution_count": 17,
   "id": "c7ee19ef",
   "metadata": {},
   "outputs": [
    {
     "data": {
      "text/plain": [
       "inf"
      ]
     },
     "execution_count": 17,
     "metadata": {},
     "output_type": "execute_result"
    }
   ],
   "source": [
    "x"
   ]
  },
  {
   "cell_type": "code",
   "execution_count": 18,
   "id": "638d88df",
   "metadata": {},
   "outputs": [
    {
     "ename": "OverflowError",
     "evalue": "cannot convert float infinity to integer",
     "output_type": "error",
     "traceback": [
      "\u001b[0;31m---------------------------------------------------------------------------\u001b[0m",
      "\u001b[0;31mOverflowError\u001b[0m                             Traceback (most recent call last)",
      "Cell \u001b[0;32mIn[18], line 1\u001b[0m\n\u001b[0;32m----> 1\u001b[0m \u001b[38;5;28;43mint\u001b[39;49m\u001b[43m(\u001b[49m\u001b[43mx\u001b[49m\u001b[43m)\u001b[49m\n",
      "\u001b[0;31mOverflowError\u001b[0m: cannot convert float infinity to integer"
     ]
    }
   ],
   "source": [
    "int(x)"
   ]
  },
  {
   "cell_type": "code",
   "execution_count": null,
   "id": "0100b353",
   "metadata": {},
   "outputs": [],
   "source": [
    "x = 2"
   ]
  },
  {
   "cell_type": "code",
   "execution_count": null,
   "id": "260b92f2",
   "metadata": {},
   "outputs": [],
   "source": [
    "x"
   ]
  },
  {
   "cell_type": "code",
   "execution_count": null,
   "id": "66133c41",
   "metadata": {},
   "outputs": [],
   "source": [
    "x= float('inf')"
   ]
  },
  {
   "cell_type": "code",
   "execution_count": null,
   "id": "fc5e0d49",
   "metadata": {},
   "outputs": [],
   "source": [
    "x = x*-1"
   ]
  },
  {
   "cell_type": "code",
   "execution_count": null,
   "id": "340ea3cd",
   "metadata": {},
   "outputs": [],
   "source": [
    "x"
   ]
  },
  {
   "cell_type": "code",
   "execution_count": null,
   "id": "91ea619c",
   "metadata": {},
   "outputs": [],
   "source": [
    "nums = [1,2,3,4,5]"
   ]
  },
  {
   "cell_type": "code",
   "execution_count": null,
   "id": "f6b8dafd",
   "metadata": {},
   "outputs": [],
   "source": [
    "lastnumber = nums[-1]"
   ]
  },
  {
   "cell_type": "code",
   "execution_count": null,
   "id": "80c160a1",
   "metadata": {},
   "outputs": [],
   "source": [
    "lastnumber = nums[-1]\n",
    "for i in range(len(nums)):\n",
    "    nums[i], lastnumber = lastnumber, nums[i]"
   ]
  },
  {
   "cell_type": "code",
   "execution_count": null,
   "id": "3c05a7e1",
   "metadata": {},
   "outputs": [],
   "source": [
    "nums"
   ]
  },
  {
   "cell_type": "code",
   "execution_count": null,
   "id": "d7f3af09",
   "metadata": {},
   "outputs": [],
   "source": [
    "nums.find(4)"
   ]
  },
  {
   "cell_type": "code",
   "execution_count": null,
   "id": "bec28ac6",
   "metadata": {},
   "outputs": [],
   "source": [
    "find(nums,4)"
   ]
  },
  {
   "cell_type": "code",
   "execution_count": null,
   "id": "a5e00e33",
   "metadata": {},
   "outputs": [],
   "source": [
    "nums.index(4)"
   ]
  },
  {
   "cell_type": "code",
   "execution_count": null,
   "id": "d82be10c",
   "metadata": {},
   "outputs": [],
   "source": [
    "    def lengthOfLongestSubstring(s: str) -> int:\n",
    "        temparray = list(s)\n",
    "        longestchar = []\n",
    "        final = []\n",
    "        i = 0\n",
    "        fidx = 0\n",
    "        while i <len(s):\n",
    "            for idx,char in enumerate(temparray[i:]):\n",
    "                if char not in longestchar:\n",
    "                    longestchar.append(char)\n",
    "                else:\n",
    "                    fidx = longestchar.index(char)\n",
    "                    #i+=i\n",
    "                    final = max(final, longestchar, key = len)\n",
    "                    print(\"final\",final)\n",
    "                    print(\"longestchar\", longestchar)\n",
    "                    longestchar = []\n",
    "            i+=1\n",
    "        print(final)\n",
    "        return \"\".join(final) if len(final) > 0 else \"\""
   ]
  },
  {
   "cell_type": "code",
   "execution_count": null,
   "id": "364a60cf",
   "metadata": {},
   "outputs": [],
   "source": [
    "lengthOfLongestSubstring(\"jbpnbwwd\")"
   ]
  },
  {
   "cell_type": "code",
   "execution_count": null,
   "id": "3f1f1a8d",
   "metadata": {},
   "outputs": [],
   "source": [
    "\"deepak \".strip()"
   ]
  },
  {
   "cell_type": "code",
   "execution_count": null,
   "id": "883a73ed",
   "metadata": {},
   "outputs": [],
   "source": [
    "\"deepak das\".strip()"
   ]
  },
  {
   "cell_type": "code",
   "execution_count": null,
   "id": "868b5dd6",
   "metadata": {},
   "outputs": [],
   "source": [
    "s = \" \""
   ]
  },
  {
   "cell_type": "code",
   "execution_count": null,
   "id": "bfb529b1",
   "metadata": {},
   "outputs": [],
   "source": [
    "s = s.split()"
   ]
  },
  {
   "cell_type": "code",
   "execution_count": null,
   "id": "2d42bd16",
   "metadata": {},
   "outputs": [],
   "source": [
    "s"
   ]
  },
  {
   "cell_type": "code",
   "execution_count": null,
   "id": "199cd228",
   "metadata": {},
   "outputs": [],
   "source": [
    "\"\".join(s)"
   ]
  },
  {
   "cell_type": "code",
   "execution_count": null,
   "id": "376bb1ac",
   "metadata": {},
   "outputs": [],
   "source": [
    "s = \"\".join(s)"
   ]
  },
  {
   "cell_type": "code",
   "execution_count": null,
   "id": "20c45a28",
   "metadata": {},
   "outputs": [],
   "source": [
    "s"
   ]
  },
  {
   "cell_type": "code",
   "execution_count": null,
   "id": "24cb4988",
   "metadata": {},
   "outputs": [],
   "source": [
    "len(s)"
   ]
  },
  {
   "cell_type": "code",
   "execution_count": null,
   "id": "7f762d3e",
   "metadata": {},
   "outputs": [],
   "source": []
  },
  {
   "cell_type": "code",
   "execution_count": null,
   "id": "13308d54",
   "metadata": {},
   "outputs": [],
   "source": [
    "dict ={}"
   ]
  },
  {
   "cell_type": "code",
   "execution_count": null,
   "id": "c99f34e6",
   "metadata": {},
   "outputs": [],
   "source": [
    "dict[1]=1"
   ]
  },
  {
   "cell_type": "code",
   "execution_count": null,
   "id": "66813409",
   "metadata": {},
   "outputs": [],
   "source": [
    "dict"
   ]
  },
  {
   "cell_type": "code",
   "execution_count": null,
   "id": "d6e3035e",
   "metadata": {},
   "outputs": [],
   "source": [
    "dict[1]"
   ]
  },
  {
   "cell_type": "code",
   "execution_count": null,
   "id": "be42e16a",
   "metadata": {},
   "outputs": [],
   "source": [
    "array =[3,1,7,4,2,99,102,50]"
   ]
  },
  {
   "cell_type": "code",
   "execution_count": null,
   "id": "5f8817d3",
   "metadata": {},
   "outputs": [],
   "source": [
    "def mergehelper(array, start, end):\n",
    "    if start >=end:\n",
    "        return\n",
    "    mid = (start+end)//2\n",
    "    mergehelper(array,start,mid)\n",
    "    mergehelper(array,mid+1,end)\n",
    "    i = start\n",
    "    j = mid+1\n",
    "    aux = []\n",
    "    while (i<=mid) and (j<=end):\n",
    "        if array[i] <=array[j]:\n",
    "            aux.append(array[i])\n",
    "            i+=1\n",
    "        else:\n",
    "            aux.append(array[j])\n",
    "            j+=1\n",
    "    while i<=mid:\n",
    "        aux.append(array[i])\n",
    "        i+=1\n",
    "    while j<=end:\n",
    "        aux.append(array[j])\n",
    "        j+=1\n",
    "    array[start:end+1]=aux\n",
    "        \n",
    "\n",
    "\n",
    "array =[3,1,7,4,2,99,102,50]\n",
    "mergehelper(array,0,len(array)-1)\n",
    "#call the function"
   ]
  },
  {
   "cell_type": "code",
   "execution_count": null,
   "id": "d12d7885",
   "metadata": {},
   "outputs": [],
   "source": [
    "array"
   ]
  },
  {
   "cell_type": "code",
   "execution_count": null,
   "id": "cc09f6c5",
   "metadata": {},
   "outputs": [],
   "source": [
    "first = [1,3,6,8]\n",
    "second = [4,5,90]\n",
    "def merge_one_into_another(first, second):\n",
    "    \"\"\"\n",
    "    Args:\n",
    "     first(list_int32)\n",
    "     second(list_int32)\n",
    "    Returns:\n",
    "     list_int32\n",
    "    \"\"\"\n",
    "    # Write your code here.\n",
    "    i =0\n",
    "    j =0\n",
    "    aux = []\n",
    "    while i <len(first) and j<len(second):\n",
    "        if first[i] <= second[j]:\n",
    "           aux.append(first[i])\n",
    "           i+=1\n",
    "        else:\n",
    "            aux.append(second[j])\n",
    "            j+=1\n",
    "    while i <len(first):\n",
    "        aux.append(first[i])\n",
    "        i+=1\n",
    "    while j <len(second):\n",
    "        aux.append(second[j])\n",
    "        j+=1\n",
    "    return aux\n",
    "merge_one_into_another(first,second)"
   ]
  },
  {
   "cell_type": "code",
   "execution_count": null,
   "id": "5cbe5b1b",
   "metadata": {},
   "outputs": [],
   "source": [
    "x = \"deepak\""
   ]
  },
  {
   "cell_type": "code",
   "execution_count": null,
   "id": "3a4a6c84",
   "metadata": {},
   "outputs": [],
   "source": [
    "x[1:3]"
   ]
  },
  {
   "cell_type": "code",
   "execution_count": 24,
   "id": "4276065d",
   "metadata": {},
   "outputs": [
    {
     "data": {
      "text/plain": [
       "['de1', 'dE1', 'De1', 'DE1']"
      ]
     },
     "execution_count": 24,
     "metadata": {},
     "output_type": "execute_result"
    }
   ],
   "source": [
    "\n",
    "def letter_case_permutations(s):\n",
    "\n",
    "    result = []\n",
    "    def helper(s, slate, start):\n",
    "        if len(slate) == len(s):\n",
    "            result.append(slate)\n",
    "\n",
    "        else:\n",
    "            if s[start].isdigit():\n",
    "                helper(s, slate+s[start], start+1)\n",
    "            else:\n",
    "                helper(s, slate + s[start].lower(), start+1)\n",
    "                helper(s,slate+s[start].upper(),start+1)\n",
    "                \n",
    "            \n",
    "    helper(s,\"\",0)\n",
    "    return result\n",
    "\n",
    "letter_case_permutations(\"de1\")"
   ]
  },
  {
   "cell_type": "code",
   "execution_count": null,
   "id": "165c3dea",
   "metadata": {},
   "outputs": [],
   "source": []
  },
  {
   "cell_type": "code",
   "execution_count": 42,
   "id": "b1c5fc1a",
   "metadata": {},
   "outputs": [
    {
     "data": {
      "text/plain": [
       "[[1, 2, 3], [1, 3, 2], [2, 1, 3], [2, 3, 1], [3, 1, 2], [3, 2, 1]]"
      ]
     },
     "execution_count": 42,
     "metadata": {},
     "output_type": "execute_result"
    }
   ],
   "source": [
    "\n",
    "def get_permutations(arr):\n",
    "    \"\"\"\n",
    "    Args:\n",
    "     arr(list_int32)\n",
    "    Returns:\n",
    "     list_list_int32\n",
    "    \"\"\"\n",
    "    # Write your code here.\n",
    "    result = []\n",
    "    def helper(arr, slate, start):\n",
    "        if len(slate) == len(arr):\n",
    "            result.append(slate[:])\n",
    "        else:\n",
    "            for ele in arr:\n",
    "                if ele not in slate:\n",
    "                    slate.append(ele)\n",
    "                    helper(arr,slate,start+1)\n",
    "                    slate.pop()\n",
    "            \n",
    "    helper(arr,[],0)\n",
    "    return result\n",
    "\n",
    "\n",
    "\n",
    "\n",
    "get_permutations([1,2,3])"
   ]
  },
  {
   "cell_type": "code",
   "execution_count": 40,
   "id": "0891f5cf",
   "metadata": {},
   "outputs": [
    {
     "data": {
      "text/plain": [
       "0"
      ]
     },
     "execution_count": 40,
     "metadata": {},
     "output_type": "execute_result"
    }
   ],
   "source": [
    "len([])"
   ]
  },
  {
   "cell_type": "code",
   "execution_count": 43,
   "id": "afc6c002",
   "metadata": {},
   "outputs": [],
   "source": [
    "numbers = [].append(range(1,6)) "
   ]
  },
  {
   "cell_type": "code",
   "execution_count": 45,
   "id": "27300663",
   "metadata": {},
   "outputs": [
    {
     "ename": "AttributeError",
     "evalue": "'NoneType' object has no attribute 'append'",
     "output_type": "error",
     "traceback": [
      "\u001b[0;31m---------------------------------------------------------------------------\u001b[0m",
      "\u001b[0;31mAttributeError\u001b[0m                            Traceback (most recent call last)",
      "Cell \u001b[0;32mIn[45], line 1\u001b[0m\n\u001b[0;32m----> 1\u001b[0m \u001b[43mnumbers\u001b[49m\u001b[38;5;241;43m.\u001b[39;49m\u001b[43mappend\u001b[49m(\u001b[38;5;28mrange\u001b[39m(\u001b[38;5;241m1\u001b[39m,\u001b[38;5;241m6\u001b[39m))\n",
      "\u001b[0;31mAttributeError\u001b[0m: 'NoneType' object has no attribute 'append'"
     ]
    }
   ],
   "source": [
    "numbers.append(range(1,6))\n"
   ]
  },
  {
   "cell_type": "code",
   "execution_count": 47,
   "id": "bfb86b6a",
   "metadata": {},
   "outputs": [],
   "source": [
    "numbers= []\n",
    "for i in range(1,6):\n",
    "    numbers.append(i)"
   ]
  },
  {
   "cell_type": "code",
   "execution_count": 48,
   "id": "fd9d705d",
   "metadata": {},
   "outputs": [
    {
     "data": {
      "text/plain": [
       "[1, 2, 3, 4, 5]"
      ]
     },
     "execution_count": 48,
     "metadata": {},
     "output_type": "execute_result"
    }
   ],
   "source": [
    "numbers"
   ]
  },
  {
   "cell_type": "code",
   "execution_count": 64,
   "id": "e85f1537",
   "metadata": {},
   "outputs": [
    {
     "name": "stdout",
     "output_type": "stream",
     "text": [
      "[1]\n",
      "[1, 2]\n",
      "[1, 2]\n",
      "[1, 3]\n",
      "[1, 3]\n",
      "[1, 4]\n",
      "[1, 4]\n",
      "[1, 5]\n",
      "[1, 5]\n",
      "[2]\n",
      "[2, 1]\n",
      "[2, 1]\n",
      "[2, 3]\n",
      "[2, 3]\n",
      "[2, 4]\n",
      "[2, 4]\n",
      "[2, 5]\n",
      "[2, 5]\n",
      "[3]\n",
      "[3, 1]\n",
      "[3, 1]\n",
      "[3, 2]\n",
      "[3, 2]\n",
      "[3, 4]\n",
      "[3, 4]\n",
      "[3, 5]\n",
      "[3, 5]\n",
      "[4]\n",
      "[4, 1]\n",
      "[4, 1]\n",
      "[4, 2]\n",
      "[4, 2]\n",
      "[4, 3]\n",
      "[4, 3]\n",
      "[4, 5]\n",
      "[4, 5]\n",
      "[5]\n",
      "[5, 1]\n",
      "[5, 1]\n",
      "[5, 2]\n",
      "[5, 2]\n",
      "[5, 3]\n",
      "[5, 3]\n",
      "[5, 4]\n",
      "[5, 4]\n"
     ]
    },
    {
     "data": {
      "text/plain": [
       "[[1, 2],\n",
       " [1, 3],\n",
       " [1, 4],\n",
       " [1, 5],\n",
       " [2, 1],\n",
       " [2, 3],\n",
       " [2, 4],\n",
       " [2, 5],\n",
       " [3, 1],\n",
       " [3, 2],\n",
       " [3, 4],\n",
       " [3, 5],\n",
       " [4, 1],\n",
       " [4, 2],\n",
       " [4, 3],\n",
       " [4, 5],\n",
       " [5, 1],\n",
       " [5, 2],\n",
       " [5, 3],\n",
       " [5, 4]]"
      ]
     },
     "execution_count": 64,
     "metadata": {},
     "output_type": "execute_result"
    }
   ],
   "source": [
    "\n",
    "def find_combinations(n, k):\n",
    "    \"\"\"\n",
    "    Args:\n",
    "     n(int32)\n",
    "     k(int32)\n",
    "    Returns:\n",
    "     list_list_int32\n",
    "    \"\"\"\n",
    "    # Write your code here.\n",
    "    result = []\n",
    "    numbers = []\n",
    "    for i in range(1,n+1):\n",
    "        numbers.append(i)\n",
    "        \n",
    "    def helper(numbers, idx,slate):\n",
    "        if len(slate) ==k:\n",
    "            #print(slate)\n",
    "            result.append(slate[:])\n",
    "        else:\n",
    "            for ele in numbers:\n",
    "                #print(slate)\n",
    "                if ele not in slate:\n",
    "                    slate.append(ele)\n",
    "                    print(slate)\n",
    "                    helper(numbers, idx+1, slate)\n",
    "                    slate.pop()\n",
    "            \n",
    "        \n",
    "        \n",
    "        \n",
    "    helper(numbers, 0, [])    \n",
    "    return result\n",
    "\n",
    "\n",
    "find_combinations(5,2)"
   ]
  },
  {
   "cell_type": "code",
   "execution_count": 82,
   "id": "79009bea",
   "metadata": {},
   "outputs": [
    {
     "data": {
      "text/plain": [
       "[[1, 2],\n",
       " [1, 3],\n",
       " [1, 4],\n",
       " [1, 5],\n",
       " [2, 3],\n",
       " [2, 4],\n",
       " [2, 5],\n",
       " [3, 2],\n",
       " [3, 4],\n",
       " [3, 5],\n",
       " [4, 2],\n",
       " [4, 3],\n",
       " [4, 5],\n",
       " [5, 2],\n",
       " [5, 3],\n",
       " [5, 4]]"
      ]
     },
     "execution_count": 82,
     "metadata": {},
     "output_type": "execute_result"
    }
   ],
   "source": [
    "\n",
    "def find_combinations(n, k):\n",
    "    \"\"\"\n",
    "    Args:\n",
    "     n(int32)\n",
    "     k(int32)\n",
    "    Returns:\n",
    "     list_list_int32\n",
    "    \"\"\"\n",
    "    # Write your code here.\n",
    "    result = []\n",
    "    numbers = []\n",
    "    for i in range(1,n+1):\n",
    "        numbers.append(i)\n",
    "        \n",
    "    def helper(numbers, idx,slate):\n",
    "        if idx ==k:\n",
    "            #print(slate)\n",
    "            result.append(slate[:])\n",
    "        else:\n",
    "            for i in range(idx, len(numbers)):\n",
    "                ele = numbers[i]\n",
    "                if ele not in slate:\n",
    "                    slate.append(ele)\n",
    "                    helper(numbers, idx+1, slate)\n",
    "                    slate.pop()\n",
    "                #helper(numbers,idx+1,slate)\n",
    "            \n",
    "        \n",
    "        \n",
    "        \n",
    "    helper(numbers, 0, [])    \n",
    "    return result\n",
    "\n",
    "\n",
    "find_combinations(5,2)"
   ]
  },
  {
   "cell_type": "code",
   "execution_count": 84,
   "id": "e2f1a5c2",
   "metadata": {},
   "outputs": [
    {
     "data": {
      "text/plain": [
       "[1, 3, 4, 5]"
      ]
     },
     "execution_count": 84,
     "metadata": {},
     "output_type": "execute_result"
    }
   ],
   "source": [
    "list(set([1,1,1,3,4,5]))"
   ]
  },
  {
   "cell_type": "code",
   "execution_count": 85,
   "id": "9af479e3",
   "metadata": {},
   "outputs": [],
   "source": [
    "from collections import Counter\n",
    "list = [1,1,1,3,4]"
   ]
  },
  {
   "cell_type": "code",
   "execution_count": 86,
   "id": "c5a4278c",
   "metadata": {},
   "outputs": [],
   "source": [
    "cnt = Counter(list)"
   ]
  },
  {
   "cell_type": "code",
   "execution_count": 87,
   "id": "02b246fc",
   "metadata": {},
   "outputs": [
    {
     "data": {
      "text/plain": [
       "Counter({1: 3, 3: 1, 4: 1})"
      ]
     },
     "execution_count": 87,
     "metadata": {},
     "output_type": "execute_result"
    }
   ],
   "source": [
    "cnt"
   ]
  },
  {
   "cell_type": "code",
   "execution_count": 88,
   "id": "e15c4443",
   "metadata": {},
   "outputs": [
    {
     "data": {
      "text/plain": [
       "{1: 3, 3: 1, 4: 1}"
      ]
     },
     "execution_count": 88,
     "metadata": {},
     "output_type": "execute_result"
    }
   ],
   "source": [
    "dict(cnt)"
   ]
  },
  {
   "cell_type": "code",
   "execution_count": 89,
   "id": "c067cfb4",
   "metadata": {},
   "outputs": [
    {
     "data": {
      "text/plain": [
       "collections.Counter"
      ]
     },
     "execution_count": 89,
     "metadata": {},
     "output_type": "execute_result"
    }
   ],
   "source": [
    "type(cnt)"
   ]
  },
  {
   "cell_type": "code",
   "execution_count": 91,
   "id": "37879a15",
   "metadata": {},
   "outputs": [
    {
     "ename": "NameError",
     "evalue": "name 'n' is not defined",
     "output_type": "error",
     "traceback": [
      "\u001b[0;31m---------------------------------------------------------------------------\u001b[0m",
      "\u001b[0;31mNameError\u001b[0m                                 Traceback (most recent call last)",
      "Cell \u001b[0;32mIn[91], line 1\u001b[0m\n\u001b[0;32m----> 1\u001b[0m [[\u001b[38;5;241m0\u001b[39m] \u001b[38;5;241m*\u001b[39mn \u001b[38;5;28;01mfor\u001b[39;00m i \u001b[38;5;129;01min\u001b[39;00m \u001b[38;5;28mrange\u001b[39m(\u001b[43mn\u001b[49m)]\n",
      "\u001b[0;31mNameError\u001b[0m: name 'n' is not defined"
     ]
    }
   ],
   "source": [
    "[[0] *n for i in range(n)]"
   ]
  },
  {
   "cell_type": "code",
   "execution_count": 93,
   "id": "7bfd3e56",
   "metadata": {},
   "outputs": [
    {
     "data": {
      "text/plain": [
       "[[0, 0, 0], [0, 0, 0], [0, 0, 0], [0, 0, 0], [0, 0, 0]]"
      ]
     },
     "execution_count": 93,
     "metadata": {},
     "output_type": "execute_result"
    }
   ],
   "source": [
    "n = 5\n",
    "[[0] * 3 for i in range(5)]"
   ]
  },
  {
   "cell_type": "code",
   "execution_count": 124,
   "id": "b4e05013",
   "metadata": {},
   "outputs": [],
   "source": [
    "table = [[0] *n for i in range(n)]"
   ]
  },
  {
   "cell_type": "code",
   "execution_count": 125,
   "id": "27bdba90",
   "metadata": {},
   "outputs": [
    {
     "data": {
      "text/plain": [
       "[[0, 0, 0, 0, 0],\n",
       " [0, 0, 0, 0, 0],\n",
       " [0, 0, 0, 0, 0],\n",
       " [0, 0, 0, 0, 0],\n",
       " [0, 0, 0, 0, 0]]"
      ]
     },
     "execution_count": 125,
     "metadata": {},
     "output_type": "execute_result"
    }
   ],
   "source": [
    "table"
   ]
  },
  {
   "cell_type": "code",
   "execution_count": 126,
   "id": "c2b185a0",
   "metadata": {},
   "outputs": [],
   "source": [
    "for i in range(n):\n",
    "    table[0][i] = 1\n",
    "    table[i][0] = 1"
   ]
  },
  {
   "cell_type": "code",
   "execution_count": 127,
   "id": "0c9d5a79",
   "metadata": {},
   "outputs": [
    {
     "data": {
      "text/plain": [
       "[[1, 1, 1, 1, 1],\n",
       " [1, 0, 0, 0, 0],\n",
       " [1, 0, 0, 0, 0],\n",
       " [1, 0, 0, 0, 0],\n",
       " [1, 0, 0, 0, 0]]"
      ]
     },
     "execution_count": 127,
     "metadata": {},
     "output_type": "execute_result"
    }
   ],
   "source": [
    "table"
   ]
  },
  {
   "cell_type": "code",
   "execution_count": 128,
   "id": "d02bb0b4",
   "metadata": {},
   "outputs": [],
   "source": [
    "for row in range(1,n):\n",
    "    for col in range(1,n):\n",
    "        table[row][col] = table[row-1][col-1] + table[row-1][col]"
   ]
  },
  {
   "cell_type": "code",
   "execution_count": 129,
   "id": "39157214",
   "metadata": {},
   "outputs": [
    {
     "data": {
      "text/plain": [
       "[[1, 1, 1, 1, 1],\n",
       " [1, 2, 2, 2, 2],\n",
       " [1, 3, 4, 4, 4],\n",
       " [1, 4, 7, 8, 8],\n",
       " [1, 5, 11, 15, 16]]"
      ]
     },
     "execution_count": 129,
     "metadata": {},
     "output_type": "execute_result"
    }
   ],
   "source": [
    "table"
   ]
  },
  {
   "cell_type": "code",
   "execution_count": 4,
   "id": "0a5c1253",
   "metadata": {},
   "outputs": [
    {
     "ename": "SyntaxError",
     "evalue": "'literal' is an illegal expression for augmented assignment (2312002608.py, line 1)",
     "output_type": "error",
     "traceback": [
      "\u001b[0;36m  Cell \u001b[0;32mIn[4], line 1\u001b[0;36m\u001b[0m\n\u001b[0;31m    \"deepak\"-=\"d\"\u001b[0m\n\u001b[0m    ^\u001b[0m\n\u001b[0;31mSyntaxError\u001b[0m\u001b[0;31m:\u001b[0m 'literal' is an illegal expression for augmented assignment\n"
     ]
    }
   ],
   "source": [
    "\"deepak\"-=\"d\""
   ]
  },
  {
   "cell_type": "code",
   "execution_count": 12,
   "id": "148f86e3",
   "metadata": {},
   "outputs": [],
   "source": [
    "x = [1,2,3,1,5]"
   ]
  },
  {
   "cell_type": "code",
   "execution_count": 15,
   "id": "d809713d",
   "metadata": {},
   "outputs": [],
   "source": [
    "x.remove(1)"
   ]
  },
  {
   "cell_type": "code",
   "execution_count": 16,
   "id": "68cda25e",
   "metadata": {},
   "outputs": [
    {
     "data": {
      "text/plain": [
       "[2, 3, 5]"
      ]
     },
     "execution_count": 16,
     "metadata": {},
     "output_type": "execute_result"
    }
   ],
   "source": [
    "x"
   ]
  },
  {
   "cell_type": "code",
   "execution_count": 17,
   "id": "14ed8cb8",
   "metadata": {},
   "outputs": [
    {
     "ename": "IndexError",
     "evalue": "pop index out of range",
     "output_type": "error",
     "traceback": [
      "\u001b[0;31m---------------------------------------------------------------------------\u001b[0m",
      "\u001b[0;31mIndexError\u001b[0m                                Traceback (most recent call last)",
      "Cell \u001b[0;32mIn[17], line 1\u001b[0m\n\u001b[0;32m----> 1\u001b[0m \u001b[43mx\u001b[49m\u001b[38;5;241;43m.\u001b[39;49m\u001b[43mpop\u001b[49m\u001b[43m(\u001b[49m\u001b[38;5;241;43m5\u001b[39;49m\u001b[43m)\u001b[49m\n",
      "\u001b[0;31mIndexError\u001b[0m: pop index out of range"
     ]
    }
   ],
   "source": [
    "x.pop(5)"
   ]
  },
  {
   "cell_type": "code",
   "execution_count": 48,
   "id": "98d096a4",
   "metadata": {},
   "outputs": [],
   "source": [
    "x = [\"1\",\"2\",\"3\"]"
   ]
  },
  {
   "cell_type": "code",
   "execution_count": 49,
   "id": "32a4859e",
   "metadata": {},
   "outputs": [],
   "source": [
    "y = x.pop(1)"
   ]
  },
  {
   "cell_type": "code",
   "execution_count": 51,
   "id": "fe20eac8",
   "metadata": {},
   "outputs": [
    {
     "data": {
      "text/plain": [
       "['1', '3']"
      ]
     },
     "execution_count": 51,
     "metadata": {},
     "output_type": "execute_result"
    }
   ],
   "source": [
    "x"
   ]
  },
  {
   "cell_type": "code",
   "execution_count": 47,
   "id": "3423463c",
   "metadata": {},
   "outputs": [
    {
     "data": {
      "text/plain": [
       "'a'"
      ]
     },
     "execution_count": 47,
     "metadata": {},
     "output_type": "execute_result"
    }
   ],
   "source": [
    "y"
   ]
  },
  {
   "cell_type": "code",
   "execution_count": 44,
   "id": "ee101ea7",
   "metadata": {},
   "outputs": [
    {
     "data": {
      "text/plain": [
       "['a']"
      ]
     },
     "execution_count": 44,
     "metadata": {},
     "output_type": "execute_result"
    }
   ],
   "source": [
    "x"
   ]
  },
  {
   "cell_type": "code",
   "execution_count": 52,
   "id": "3195654d",
   "metadata": {},
   "outputs": [],
   "source": [
    "   def kthFactor(n: int, k: int) -> int:\n",
    "        factor = []\n",
    "        for ele in range(1,n+1):\n",
    "            if n % ele ==0:\n",
    "                factor.append(ele)\n",
    "        print(factor)\n",
    "        return factor[k-1]"
   ]
  },
  {
   "cell_type": "code",
   "execution_count": 53,
   "id": "ef06bfa0",
   "metadata": {},
   "outputs": [
    {
     "name": "stdout",
     "output_type": "stream",
     "text": [
      "[1, 3, 5, 15]\n"
     ]
    },
    {
     "data": {
      "text/plain": [
       "3"
      ]
     },
     "execution_count": 53,
     "metadata": {},
     "output_type": "execute_result"
    }
   ],
   "source": [
    "kthFactor(15,2)"
   ]
  },
  {
   "cell_type": "code",
   "execution_count": 54,
   "id": "0dea7474",
   "metadata": {},
   "outputs": [
    {
     "name": "stdout",
     "output_type": "stream",
     "text": [
      "[4, 5, 6]\n"
     ]
    }
   ],
   "source": [
    "nums = [1, 2, 3]\n",
    "array = [4, 5, 6]\n",
    "nums = array\n",
    "print(nums)  # Output: [4, 5, 6]\n"
   ]
  },
  {
   "cell_type": "code",
   "execution_count": 55,
   "id": "f7ad604d",
   "metadata": {},
   "outputs": [
    {
     "data": {
      "text/plain": [
       "[4, 5, 6]"
      ]
     },
     "execution_count": 55,
     "metadata": {},
     "output_type": "execute_result"
    }
   ],
   "source": [
    "array"
   ]
  },
  {
   "cell_type": "code",
   "execution_count": 56,
   "id": "0503f96d",
   "metadata": {},
   "outputs": [
    {
     "data": {
      "text/plain": [
       "[4, 5, 6]"
      ]
     },
     "execution_count": 56,
     "metadata": {},
     "output_type": "execute_result"
    }
   ],
   "source": [
    "nums"
   ]
  },
  {
   "cell_type": "code",
   "execution_count": 57,
   "id": "186ea21c",
   "metadata": {},
   "outputs": [],
   "source": [
    "nums =[1,2,3]"
   ]
  },
  {
   "cell_type": "code",
   "execution_count": 58,
   "id": "f0ccaf29",
   "metadata": {},
   "outputs": [
    {
     "data": {
      "text/plain": [
       "[4, 5, 6]"
      ]
     },
     "execution_count": 58,
     "metadata": {},
     "output_type": "execute_result"
    }
   ],
   "source": [
    "array"
   ]
  },
  {
   "cell_type": "code",
   "execution_count": 59,
   "id": "6669e759",
   "metadata": {},
   "outputs": [],
   "source": [
    "nums[:] = array"
   ]
  },
  {
   "cell_type": "code",
   "execution_count": 60,
   "id": "55a76741",
   "metadata": {},
   "outputs": [
    {
     "data": {
      "text/plain": [
       "[4, 5, 6]"
      ]
     },
     "execution_count": 60,
     "metadata": {},
     "output_type": "execute_result"
    }
   ],
   "source": [
    "nums"
   ]
  },
  {
   "cell_type": "code",
   "execution_count": 74,
   "id": "b30f6c2b",
   "metadata": {},
   "outputs": [
    {
     "data": {
      "text/plain": [
       "[4, 5, 6]"
      ]
     },
     "execution_count": 74,
     "metadata": {},
     "output_type": "execute_result"
    }
   ],
   "source": [
    "array"
   ]
  },
  {
   "cell_type": "code",
   "execution_count": 91,
   "id": "718a11ba",
   "metadata": {},
   "outputs": [],
   "source": [
    "list =[1,2,3,4,5,6,7,8,9]"
   ]
  },
  {
   "cell_type": "code",
   "execution_count": 92,
   "id": "47fcde79",
   "metadata": {},
   "outputs": [],
   "source": [
    "result = []\n",
    "\n",
    "def window_list(list, k):\n",
    "    for i in range(len(list)-k+1):\n",
    "        if sum(list[i:k+i]) >20 and sum(list[i:k+i]) <40:\n",
    "            result.append(list[i:k+i])\n",
    "    return result\n",
    "\n",
    "for i in range(1,len(list)+1):\n",
    "    window_list(list,i)"
   ]
  },
  {
   "cell_type": "code",
   "execution_count": null,
   "id": "5f0e4010",
   "metadata": {},
   "outputs": [],
   "source": []
  },
  {
   "cell_type": "code",
   "execution_count": null,
   "id": "3501fba0",
   "metadata": {},
   "outputs": [],
   "source": []
  },
  {
   "cell_type": "code",
   "execution_count": 93,
   "id": "2806b0c0",
   "metadata": {},
   "outputs": [
    {
     "data": {
      "text/plain": [
       "[[6, 7, 8],\n",
       " [7, 8, 9],\n",
       " [4, 5, 6, 7],\n",
       " [5, 6, 7, 8],\n",
       " [6, 7, 8, 9],\n",
       " [3, 4, 5, 6, 7],\n",
       " [4, 5, 6, 7, 8],\n",
       " [5, 6, 7, 8, 9],\n",
       " [1, 2, 3, 4, 5, 6],\n",
       " [2, 3, 4, 5, 6, 7],\n",
       " [3, 4, 5, 6, 7, 8],\n",
       " [4, 5, 6, 7, 8, 9],\n",
       " [1, 2, 3, 4, 5, 6, 7],\n",
       " [2, 3, 4, 5, 6, 7, 8],\n",
       " [1, 2, 3, 4, 5, 6, 7, 8]]"
      ]
     },
     "execution_count": 93,
     "metadata": {},
     "output_type": "execute_result"
    }
   ],
   "source": [
    "result"
   ]
  },
  {
   "cell_type": "code",
   "execution_count": 94,
   "id": "a6a570fe",
   "metadata": {},
   "outputs": [],
   "source": [
    "from collections import defaultdict"
   ]
  },
  {
   "cell_type": "code",
   "execution_count": 95,
   "id": "17382532",
   "metadata": {},
   "outputs": [
    {
     "data": {
      "text/plain": [
       "[1, 2, 3, 4, 5, 6, 7, 8, 9]"
      ]
     },
     "execution_count": 95,
     "metadata": {},
     "output_type": "execute_result"
    }
   ],
   "source": [
    "list"
   ]
  },
  {
   "cell_type": "code",
   "execution_count": 97,
   "id": "f543642f",
   "metadata": {},
   "outputs": [
    {
     "ename": "TypeError",
     "evalue": "first argument must be callable or None",
     "output_type": "error",
     "traceback": [
      "\u001b[0;31m---------------------------------------------------------------------------\u001b[0m",
      "\u001b[0;31mTypeError\u001b[0m                                 Traceback (most recent call last)",
      "Cell \u001b[0;32mIn[97], line 1\u001b[0m\n\u001b[0;32m----> 1\u001b[0m \u001b[43mdefaultdict\u001b[49m\u001b[43m(\u001b[49m\u001b[38;5;241;43m10\u001b[39;49m\u001b[43m)\u001b[49m\n",
      "\u001b[0;31mTypeError\u001b[0m: first argument must be callable or None"
     ]
    }
   ],
   "source": [
    "defaultdict(10)"
   ]
  },
  {
   "cell_type": "code",
   "execution_count": 98,
   "id": "1ddfcc47",
   "metadata": {},
   "outputs": [
    {
     "data": {
      "text/plain": [
       "[('yellow', 1), ('blue', 2), ('yellow', 3), ('blue', 4), ('red', 1)]"
      ]
     },
     "execution_count": 98,
     "metadata": {},
     "output_type": "execute_result"
    }
   ],
   "source": [
    "[('yellow', 1), ('blue', 2), ('yellow', 3), ('blue', 4), ('red', 1)]"
   ]
  },
  {
   "cell_type": "code",
   "execution_count": 99,
   "id": "51cf6fa7",
   "metadata": {},
   "outputs": [
    {
     "ename": "TypeError",
     "evalue": "first argument must be callable or None",
     "output_type": "error",
     "traceback": [
      "\u001b[0;31m---------------------------------------------------------------------------\u001b[0m",
      "\u001b[0;31mTypeError\u001b[0m                                 Traceback (most recent call last)",
      "Cell \u001b[0;32mIn[99], line 2\u001b[0m\n\u001b[1;32m      1\u001b[0m s \u001b[38;5;241m=\u001b[39m [(\u001b[38;5;124m'\u001b[39m\u001b[38;5;124myellow\u001b[39m\u001b[38;5;124m'\u001b[39m, \u001b[38;5;241m1\u001b[39m), (\u001b[38;5;124m'\u001b[39m\u001b[38;5;124mblue\u001b[39m\u001b[38;5;124m'\u001b[39m, \u001b[38;5;241m2\u001b[39m), (\u001b[38;5;124m'\u001b[39m\u001b[38;5;124myellow\u001b[39m\u001b[38;5;124m'\u001b[39m, \u001b[38;5;241m3\u001b[39m), (\u001b[38;5;124m'\u001b[39m\u001b[38;5;124mblue\u001b[39m\u001b[38;5;124m'\u001b[39m, \u001b[38;5;241m4\u001b[39m), (\u001b[38;5;124m'\u001b[39m\u001b[38;5;124mred\u001b[39m\u001b[38;5;124m'\u001b[39m, \u001b[38;5;241m1\u001b[39m)]\n\u001b[0;32m----> 2\u001b[0m d \u001b[38;5;241m=\u001b[39m \u001b[43mdefaultdict\u001b[49m\u001b[43m(\u001b[49m\u001b[38;5;28;43mlist\u001b[39;49m\u001b[43m)\u001b[49m\n",
      "\u001b[0;31mTypeError\u001b[0m: first argument must be callable or None"
     ]
    }
   ],
   "source": [
    "s = [('yellow', 1), ('blue', 2), ('yellow', 3), ('blue', 4), ('red', 1)]\n",
    ">>> d = defaultdict(list)"
   ]
  },
  {
   "cell_type": "code",
   "execution_count": 100,
   "id": "806cda6f",
   "metadata": {},
   "outputs": [
    {
     "ename": "TypeError",
     "evalue": "first argument must be callable or None",
     "output_type": "error",
     "traceback": [
      "\u001b[0;31m---------------------------------------------------------------------------\u001b[0m",
      "\u001b[0;31mTypeError\u001b[0m                                 Traceback (most recent call last)",
      "Cell \u001b[0;32mIn[100], line 2\u001b[0m\n\u001b[1;32m      1\u001b[0m s \u001b[38;5;241m=\u001b[39m [(\u001b[38;5;124m'\u001b[39m\u001b[38;5;124myellow\u001b[39m\u001b[38;5;124m'\u001b[39m, \u001b[38;5;241m1\u001b[39m), (\u001b[38;5;124m'\u001b[39m\u001b[38;5;124mblue\u001b[39m\u001b[38;5;124m'\u001b[39m, \u001b[38;5;241m2\u001b[39m), (\u001b[38;5;124m'\u001b[39m\u001b[38;5;124myellow\u001b[39m\u001b[38;5;124m'\u001b[39m, \u001b[38;5;241m3\u001b[39m), (\u001b[38;5;124m'\u001b[39m\u001b[38;5;124mblue\u001b[39m\u001b[38;5;124m'\u001b[39m, \u001b[38;5;241m4\u001b[39m), (\u001b[38;5;124m'\u001b[39m\u001b[38;5;124mred\u001b[39m\u001b[38;5;124m'\u001b[39m, \u001b[38;5;241m1\u001b[39m)]\n\u001b[0;32m----> 2\u001b[0m d \u001b[38;5;241m=\u001b[39m \u001b[43mdefaultdict\u001b[49m\u001b[43m(\u001b[49m\u001b[38;5;28;43mlist\u001b[39;49m\u001b[43m)\u001b[49m\n",
      "\u001b[0;31mTypeError\u001b[0m: first argument must be callable or None"
     ]
    }
   ],
   "source": [
    "s = [('yellow', 1), ('blue', 2), ('yellow', 3), ('blue', 4), ('red', 1)]\n",
    "d = defaultdict(list)"
   ]
  },
  {
   "cell_type": "code",
   "execution_count": 101,
   "id": "34706352",
   "metadata": {},
   "outputs": [
    {
     "ename": "TypeError",
     "evalue": "first argument must be callable or None",
     "output_type": "error",
     "traceback": [
      "\u001b[0;31m---------------------------------------------------------------------------\u001b[0m",
      "\u001b[0;31mTypeError\u001b[0m                                 Traceback (most recent call last)",
      "Cell \u001b[0;32mIn[101], line 2\u001b[0m\n\u001b[1;32m      1\u001b[0m s \u001b[38;5;241m=\u001b[39m [(\u001b[38;5;124m'\u001b[39m\u001b[38;5;124myellow\u001b[39m\u001b[38;5;124m'\u001b[39m, \u001b[38;5;241m1\u001b[39m), (\u001b[38;5;124m'\u001b[39m\u001b[38;5;124mblue\u001b[39m\u001b[38;5;124m'\u001b[39m, \u001b[38;5;241m2\u001b[39m), (\u001b[38;5;124m'\u001b[39m\u001b[38;5;124myellow\u001b[39m\u001b[38;5;124m'\u001b[39m, \u001b[38;5;241m3\u001b[39m), (\u001b[38;5;124m'\u001b[39m\u001b[38;5;124mblue\u001b[39m\u001b[38;5;124m'\u001b[39m, \u001b[38;5;241m4\u001b[39m), (\u001b[38;5;124m'\u001b[39m\u001b[38;5;124mred\u001b[39m\u001b[38;5;124m'\u001b[39m, \u001b[38;5;241m1\u001b[39m)]\n\u001b[0;32m----> 2\u001b[0m d \u001b[38;5;241m=\u001b[39m \u001b[43mdefaultdict\u001b[49m\u001b[43m(\u001b[49m\u001b[43ms\u001b[49m\u001b[43m)\u001b[49m\n",
      "\u001b[0;31mTypeError\u001b[0m: first argument must be callable or None"
     ]
    }
   ],
   "source": [
    "s = [('yellow', 1), ('blue', 2), ('yellow', 3), ('blue', 4), ('red', 1)]\n",
    "d = defaultdict(s)"
   ]
  },
  {
   "cell_type": "code",
   "execution_count": 102,
   "id": "678cf5f1",
   "metadata": {},
   "outputs": [],
   "source": [
    "s = [('yellow', 1), ('blue', 2), ('yellow', 3), ('blue', 4), ('red', 1)]"
   ]
  },
  {
   "cell_type": "code",
   "execution_count": 103,
   "id": "e062eb24",
   "metadata": {},
   "outputs": [],
   "source": [
    "from collections import defaultdict"
   ]
  },
  {
   "cell_type": "code",
   "execution_count": 106,
   "id": "3c68a2b5",
   "metadata": {},
   "outputs": [
    {
     "data": {
      "text/plain": [
       "defaultdict(int, {})"
      ]
     },
     "execution_count": 106,
     "metadata": {},
     "output_type": "execute_result"
    }
   ],
   "source": [
    "defaultdict(int)"
   ]
  },
  {
   "cell_type": "code",
   "execution_count": 107,
   "id": "20b470da",
   "metadata": {},
   "outputs": [],
   "source": [
    "d = defaultdict(int)"
   ]
  },
  {
   "cell_type": "code",
   "execution_count": 108,
   "id": "3be08278",
   "metadata": {},
   "outputs": [
    {
     "data": {
      "text/plain": [
       "defaultdict(int, {})"
      ]
     },
     "execution_count": 108,
     "metadata": {},
     "output_type": "execute_result"
    }
   ],
   "source": [
    "d"
   ]
  },
  {
   "cell_type": "code",
   "execution_count": 109,
   "id": "4441a4d7",
   "metadata": {},
   "outputs": [],
   "source": [
    "d[0] = \"hello\""
   ]
  },
  {
   "cell_type": "code",
   "execution_count": 110,
   "id": "9a601cf0",
   "metadata": {},
   "outputs": [
    {
     "data": {
      "text/plain": [
       "defaultdict(int, {0: 'hello'})"
      ]
     },
     "execution_count": 110,
     "metadata": {},
     "output_type": "execute_result"
    }
   ],
   "source": [
    "d"
   ]
  },
  {
   "cell_type": "code",
   "execution_count": 111,
   "id": "fd867fff",
   "metadata": {},
   "outputs": [],
   "source": [
    "s = [('yellow', 1), ('blue', 2), ('yellow', 3), ('blue', 4), ('red', 1)]"
   ]
  },
  {
   "cell_type": "code",
   "execution_count": 115,
   "id": "b389a46f",
   "metadata": {},
   "outputs": [
    {
     "ename": "TypeError",
     "evalue": "first argument must be callable or None",
     "output_type": "error",
     "traceback": [
      "\u001b[0;31m---------------------------------------------------------------------------\u001b[0m",
      "\u001b[0;31mTypeError\u001b[0m                                 Traceback (most recent call last)",
      "Cell \u001b[0;32mIn[115], line 2\u001b[0m\n\u001b[1;32m      1\u001b[0m s \u001b[38;5;241m=\u001b[39m [(\u001b[38;5;124m'\u001b[39m\u001b[38;5;124myellow\u001b[39m\u001b[38;5;124m'\u001b[39m, \u001b[38;5;241m1\u001b[39m), (\u001b[38;5;124m'\u001b[39m\u001b[38;5;124mblue\u001b[39m\u001b[38;5;124m'\u001b[39m, \u001b[38;5;241m2\u001b[39m), (\u001b[38;5;124m'\u001b[39m\u001b[38;5;124myellow\u001b[39m\u001b[38;5;124m'\u001b[39m, \u001b[38;5;241m3\u001b[39m), (\u001b[38;5;124m'\u001b[39m\u001b[38;5;124mblue\u001b[39m\u001b[38;5;124m'\u001b[39m, \u001b[38;5;241m4\u001b[39m), (\u001b[38;5;124m'\u001b[39m\u001b[38;5;124mred\u001b[39m\u001b[38;5;124m'\u001b[39m, \u001b[38;5;241m1\u001b[39m)]\n\u001b[0;32m----> 2\u001b[0m d \u001b[38;5;241m=\u001b[39m \u001b[43mdefaultdict\u001b[49m\u001b[43m(\u001b[49m\u001b[38;5;28;43mlist\u001b[39;49m\u001b[43m)\u001b[49m\n\u001b[1;32m      3\u001b[0m \u001b[38;5;28;01mfor\u001b[39;00m k, v \u001b[38;5;129;01min\u001b[39;00m s:\n\u001b[1;32m      4\u001b[0m     d[k]\u001b[38;5;241m.\u001b[39mappend(v)\n",
      "\u001b[0;31mTypeError\u001b[0m: first argument must be callable or None"
     ]
    }
   ],
   "source": [
    "s = [('yellow', 1), ('blue', 2), ('yellow', 3), ('blue', 4), ('red', 1)]\n",
    "d = defaultdict(list)\n",
    "for k, v in s:\n",
    "    d[k].append(v)\n",
    "\n",
    "sorted(d.items())"
   ]
  },
  {
   "cell_type": "code",
   "execution_count": 113,
   "id": "7422aed3",
   "metadata": {},
   "outputs": [
    {
     "ename": "AttributeError",
     "evalue": "'int' object has no attribute 'append'",
     "output_type": "error",
     "traceback": [
      "\u001b[0;31m---------------------------------------------------------------------------\u001b[0m",
      "\u001b[0;31mAttributeError\u001b[0m                            Traceback (most recent call last)",
      "Cell \u001b[0;32mIn[113], line 2\u001b[0m\n\u001b[1;32m      1\u001b[0m \u001b[38;5;28;01mfor\u001b[39;00m k,v \u001b[38;5;129;01min\u001b[39;00m s:\n\u001b[0;32m----> 2\u001b[0m     \u001b[43md\u001b[49m\u001b[43m[\u001b[49m\u001b[43mk\u001b[49m\u001b[43m]\u001b[49m\u001b[38;5;241;43m.\u001b[39;49m\u001b[43mappend\u001b[49m(v)\n",
      "\u001b[0;31mAttributeError\u001b[0m: 'int' object has no attribute 'append'"
     ]
    }
   ],
   "source": [
    "for k,v in s:\n",
    "    d[k].append(v)"
   ]
  },
  {
   "cell_type": "code",
   "execution_count": 116,
   "id": "b2c4b20d",
   "metadata": {},
   "outputs": [],
   "source": [
    "stack = [99,1,2,3,4,5,]"
   ]
  },
  {
   "cell_type": "code",
   "execution_count": 117,
   "id": "da84cab2",
   "metadata": {},
   "outputs": [
    {
     "data": {
      "text/plain": [
       "99"
      ]
     },
     "execution_count": 117,
     "metadata": {},
     "output_type": "execute_result"
    }
   ],
   "source": [
    "stack.pop(0)"
   ]
  },
  {
   "cell_type": "code",
   "execution_count": 118,
   "id": "937375e7",
   "metadata": {},
   "outputs": [
    {
     "data": {
      "text/plain": [
       "[1, 2, 3, 4, 5]"
      ]
     },
     "execution_count": 118,
     "metadata": {},
     "output_type": "execute_result"
    }
   ],
   "source": [
    "stack"
   ]
  },
  {
   "cell_type": "code",
   "execution_count": 119,
   "id": "188a2561",
   "metadata": {},
   "outputs": [
    {
     "data": {
      "text/plain": [
       "2"
      ]
     },
     "execution_count": 119,
     "metadata": {},
     "output_type": "execute_result"
    }
   ],
   "source": [
    "stack.pop(1)"
   ]
  },
  {
   "cell_type": "code",
   "execution_count": 120,
   "id": "11198f18",
   "metadata": {},
   "outputs": [
    {
     "data": {
      "text/plain": [
       "[1, 3, 4, 5]"
      ]
     },
     "execution_count": 120,
     "metadata": {},
     "output_type": "execute_result"
    }
   ],
   "source": [
    "stack"
   ]
  },
  {
   "cell_type": "code",
   "execution_count": 121,
   "id": "c9b16ed8",
   "metadata": {},
   "outputs": [],
   "source": [
    "s = \"hello\""
   ]
  },
  {
   "cell_type": "code",
   "execution_count": 122,
   "id": "b511f080",
   "metadata": {},
   "outputs": [
    {
     "data": {
      "text/plain": [
       "'olleh'"
      ]
     },
     "execution_count": 122,
     "metadata": {},
     "output_type": "execute_result"
    }
   ],
   "source": [
    "s[::-1]"
   ]
  },
  {
   "cell_type": "code",
   "execution_count": 123,
   "id": "c9355699",
   "metadata": {},
   "outputs": [
    {
     "data": {
      "text/plain": [
       "'olleh'"
      ]
     },
     "execution_count": 123,
     "metadata": {},
     "output_type": "execute_result"
    }
   ],
   "source": [
    "\"\".join(s[::-1])"
   ]
  },
  {
   "cell_type": "code",
   "execution_count": 124,
   "id": "93997534",
   "metadata": {},
   "outputs": [],
   "source": [
    "q= [1,2,3]"
   ]
  },
  {
   "cell_type": "code",
   "execution_count": 125,
   "id": "676b335d",
   "metadata": {},
   "outputs": [],
   "source": [
    "a= [1,2,3]"
   ]
  },
  {
   "cell_type": "code",
   "execution_count": 126,
   "id": "0b701926",
   "metadata": {},
   "outputs": [
    {
     "data": {
      "text/plain": [
       "True"
      ]
     },
     "execution_count": 126,
     "metadata": {},
     "output_type": "execute_result"
    }
   ],
   "source": [
    "q==a"
   ]
  },
  {
   "cell_type": "code",
   "execution_count": 127,
   "id": "bc852600",
   "metadata": {},
   "outputs": [],
   "source": [
    "a = [1,2,3,4]"
   ]
  },
  {
   "cell_type": "code",
   "execution_count": 128,
   "id": "1388da5a",
   "metadata": {},
   "outputs": [
    {
     "data": {
      "text/plain": [
       "False"
      ]
     },
     "execution_count": 128,
     "metadata": {},
     "output_type": "execute_result"
    }
   ],
   "source": [
    "q==a"
   ]
  },
  {
   "cell_type": "code",
   "execution_count": 1,
   "id": "514733b8",
   "metadata": {},
   "outputs": [
    {
     "ename": "SyntaxError",
     "evalue": "invalid syntax (826213521.py, line 1)",
     "output_type": "error",
     "traceback": [
      "\u001b[0;36m  Cell \u001b[0;32mIn[1], line 1\u001b[0;36m\u001b[0m\n\u001b[0;31m    2^^31\u001b[0m\n\u001b[0m      ^\u001b[0m\n\u001b[0;31mSyntaxError\u001b[0m\u001b[0;31m:\u001b[0m invalid syntax\n"
     ]
    }
   ],
   "source": [
    "2^^31"
   ]
  },
  {
   "cell_type": "code",
   "execution_count": 2,
   "id": "3eb6fc81",
   "metadata": {},
   "outputs": [
    {
     "data": {
      "text/plain": [
       "29"
      ]
     },
     "execution_count": 2,
     "metadata": {},
     "output_type": "execute_result"
    }
   ],
   "source": [
    "2^31"
   ]
  },
  {
   "cell_type": "code",
   "execution_count": 3,
   "id": "2801fec1",
   "metadata": {},
   "outputs": [
    {
     "data": {
      "text/plain": [
       "2147483648"
      ]
     },
     "execution_count": 3,
     "metadata": {},
     "output_type": "execute_result"
    }
   ],
   "source": [
    "2**31"
   ]
  },
  {
   "cell_type": "code",
   "execution_count": 4,
   "id": "51018fe5",
   "metadata": {},
   "outputs": [
    {
     "ename": "TypeError",
     "evalue": "object of type 'int' has no len()",
     "output_type": "error",
     "traceback": [
      "\u001b[0;31m---------------------------------------------------------------------------\u001b[0m",
      "\u001b[0;31mTypeError\u001b[0m                                 Traceback (most recent call last)",
      "Cell \u001b[0;32mIn[4], line 1\u001b[0m\n\u001b[0;32m----> 1\u001b[0m \u001b[38;5;28;43mlen\u001b[39;49m\u001b[43m(\u001b[49m\u001b[38;5;241;43m-\u001b[39;49m\u001b[38;5;241;43m4\u001b[39;49m\u001b[43m)\u001b[49m\n",
      "\u001b[0;31mTypeError\u001b[0m: object of type 'int' has no len()"
     ]
    }
   ],
   "source": [
    "len(-4)"
   ]
  },
  {
   "cell_type": "code",
   "execution_count": 5,
   "id": "46aa5fde",
   "metadata": {},
   "outputs": [
    {
     "ename": "SyntaxError",
     "evalue": "invalid syntax (1161355087.py, line 1)",
     "output_type": "error",
     "traceback": [
      "\u001b[0;36m  Cell \u001b[0;32mIn[5], line 1\u001b[0;36m\u001b[0m\n\u001b[0;31m    tem p =40\u001b[0m\n\u001b[0m        ^\u001b[0m\n\u001b[0;31mSyntaxError\u001b[0m\u001b[0;31m:\u001b[0m invalid syntax\n"
     ]
    }
   ],
   "source": [
    "tem p =40"
   ]
  },
  {
   "cell_type": "code",
   "execution_count": 6,
   "id": "106e1f9a",
   "metadata": {},
   "outputs": [],
   "source": [
    "temp =40"
   ]
  },
  {
   "cell_type": "code",
   "execution_count": 7,
   "id": "242a37b1",
   "metadata": {},
   "outputs": [
    {
     "data": {
      "text/plain": [
       "1"
      ]
     },
     "execution_count": 7,
     "metadata": {},
     "output_type": "execute_result"
    }
   ],
   "source": [
    "temp//40"
   ]
  },
  {
   "cell_type": "code",
   "execution_count": 8,
   "id": "d3c22e16",
   "metadata": {},
   "outputs": [
    {
     "data": {
      "text/plain": [
       "40"
      ]
     },
     "execution_count": 8,
     "metadata": {},
     "output_type": "execute_result"
    }
   ],
   "source": [
    "temp"
   ]
  },
  {
   "cell_type": "code",
   "execution_count": 9,
   "id": "f5d0fdb5",
   "metadata": {},
   "outputs": [],
   "source": [
    "temp = temp//40"
   ]
  },
  {
   "cell_type": "code",
   "execution_count": 10,
   "id": "e3d24726",
   "metadata": {},
   "outputs": [
    {
     "data": {
      "text/plain": [
       "1"
      ]
     },
     "execution_count": 10,
     "metadata": {},
     "output_type": "execute_result"
    }
   ],
   "source": [
    "temp"
   ]
  },
  {
   "cell_type": "code",
   "execution_count": 11,
   "id": "62476b5b",
   "metadata": {},
   "outputs": [
    {
     "data": {
      "text/plain": [
       "0"
      ]
     },
     "execution_count": 11,
     "metadata": {},
     "output_type": "execute_result"
    }
   ],
   "source": [
    "1//10"
   ]
  },
  {
   "cell_type": "code",
   "execution_count": 7,
   "id": "63819924",
   "metadata": {},
   "outputs": [],
   "source": [
    "list = [1,2,3,4,5,6,7,8]"
   ]
  },
  {
   "cell_type": "code",
   "execution_count": 8,
   "id": "d6f256a5",
   "metadata": {},
   "outputs": [],
   "source": [
    "list = list[1:] +[list[0]]"
   ]
  },
  {
   "cell_type": "code",
   "execution_count": 9,
   "id": "35c63923",
   "metadata": {},
   "outputs": [
    {
     "data": {
      "text/plain": [
       "[2, 3, 4, 5, 6, 7, 8, 1]"
      ]
     },
     "execution_count": 9,
     "metadata": {},
     "output_type": "execute_result"
    }
   ],
   "source": [
    "list"
   ]
  },
  {
   "cell_type": "code",
   "execution_count": 10,
   "id": "6032abff",
   "metadata": {},
   "outputs": [
    {
     "ename": "KeyboardInterrupt",
     "evalue": "",
     "output_type": "error",
     "traceback": [
      "\u001b[0;31m---------------------------------------------------------------------------\u001b[0m",
      "\u001b[0;31mKeyboardInterrupt\u001b[0m                         Traceback (most recent call last)",
      "Cell \u001b[0;32mIn[10], line 2\u001b[0m\n\u001b[1;32m      1\u001b[0m k \u001b[38;5;241m=\u001b[39m \u001b[38;5;241m0\u001b[39m\n\u001b[0;32m----> 2\u001b[0m \u001b[38;5;28;01mwhile\u001b[39;00m k \u001b[38;5;241m<\u001b[39m\u001b[38;5;241m3\u001b[39m:\n\u001b[1;32m      3\u001b[0m     \u001b[38;5;28mlist\u001b[39m \u001b[38;5;241m=\u001b[39m \u001b[38;5;28mlist\u001b[39m[\u001b[38;5;241m1\u001b[39m:] \u001b[38;5;241m+\u001b[39m[\u001b[38;5;28mlist\u001b[39m[\u001b[38;5;241m0\u001b[39m]]\n",
      "\u001b[0;31mKeyboardInterrupt\u001b[0m: "
     ]
    }
   ],
   "source": []
  },
  {
   "cell_type": "code",
   "execution_count": 20,
   "id": "0b115c81",
   "metadata": {},
   "outputs": [],
   "source": [
    "list = [1,2,3,4,5,6,7,8]\n",
    "k = 0\n",
    "while k <1:\n",
    "    list = list[1:] +[list[0]]\n",
    "    k+=1"
   ]
  },
  {
   "cell_type": "code",
   "execution_count": 21,
   "id": "3aad663b",
   "metadata": {},
   "outputs": [
    {
     "data": {
      "text/plain": [
       "[2, 3, 4, 5, 6, 7, 8, 1]"
      ]
     },
     "execution_count": 21,
     "metadata": {},
     "output_type": "execute_result"
    }
   ],
   "source": [
    "list"
   ]
  },
  {
   "cell_type": "code",
   "execution_count": 1,
   "id": "07d2923b",
   "metadata": {},
   "outputs": [],
   "source": [
    "q = []"
   ]
  },
  {
   "cell_type": "code",
   "execution_count": 2,
   "id": "05a7509e",
   "metadata": {},
   "outputs": [
    {
     "ename": "AttributeError",
     "evalue": "'list' object has no attribute 'push'",
     "output_type": "error",
     "traceback": [
      "\u001b[0;31m---------------------------------------------------------------------------\u001b[0m",
      "\u001b[0;31mAttributeError\u001b[0m                            Traceback (most recent call last)",
      "Cell \u001b[0;32mIn[2], line 1\u001b[0m\n\u001b[0;32m----> 1\u001b[0m \u001b[43mq\u001b[49m\u001b[38;5;241;43m.\u001b[39;49m\u001b[43mpush\u001b[49m(\u001b[38;5;241m7\u001b[39m)\n",
      "\u001b[0;31mAttributeError\u001b[0m: 'list' object has no attribute 'push'"
     ]
    }
   ],
   "source": [
    "q.push(7)"
   ]
  },
  {
   "cell_type": "code",
   "execution_count": 3,
   "id": "bbeeeacd",
   "metadata": {},
   "outputs": [],
   "source": [
    "q.append(8)"
   ]
  },
  {
   "cell_type": "code",
   "execution_count": 4,
   "id": "0dbdd64a",
   "metadata": {},
   "outputs": [],
   "source": [
    "q.append(7)"
   ]
  },
  {
   "cell_type": "code",
   "execution_count": 5,
   "id": "7c7d5321",
   "metadata": {},
   "outputs": [
    {
     "data": {
      "text/plain": [
       "8"
      ]
     },
     "execution_count": 5,
     "metadata": {},
     "output_type": "execute_result"
    }
   ],
   "source": [
    "q.pop(0)"
   ]
  },
  {
   "cell_type": "code",
   "execution_count": 6,
   "id": "c8687df8",
   "metadata": {},
   "outputs": [
    {
     "data": {
      "text/plain": [
       "[7]"
      ]
     },
     "execution_count": 6,
     "metadata": {},
     "output_type": "execute_result"
    }
   ],
   "source": [
    "q"
   ]
  },
  {
   "cell_type": "code",
   "execution_count": 34,
   "id": "c61eed86",
   "metadata": {},
   "outputs": [],
   "source": [
    "strs = [\"eat\",\"tea\",\"tan\",\"ate\",\"nat\",\"bat\"]"
   ]
  },
  {
   "cell_type": "code",
   "execution_count": 71,
   "id": "74dc09fa",
   "metadata": {},
   "outputs": [
    {
     "name": "stdout",
     "output_type": "stream",
     "text": [
      "eat\n",
      "tea\n",
      "tan\n",
      "ate\n",
      "nat\n",
      "bat\n"
     ]
    }
   ],
   "source": [
    "strs = [\"eat\",\"tea\",\"tan\",\"ate\",\"nat\",\"bat\"]\n",
    "newarray = []\n",
    "for element in strs:\n",
    "    temp = list(element)\n",
    "    temp.sort()\n",
    "    print(element)\n",
    "    newarray.append(\"\".join(temp))"
   ]
  },
  {
   "cell_type": "code",
   "execution_count": 53,
   "id": "401be3c7",
   "metadata": {},
   "outputs": [
    {
     "data": {
      "text/plain": [
       "['aet', 'aet', 'ant', 'aet', 'ant', 'abt']"
      ]
     },
     "execution_count": 53,
     "metadata": {},
     "output_type": "execute_result"
    }
   ],
   "source": [
    "newarray"
   ]
  },
  {
   "cell_type": "code",
   "execution_count": 37,
   "id": "c5736155",
   "metadata": {},
   "outputs": [
    {
     "data": {
      "text/plain": [
       "['eat', 'tea', 'tan', 'ate', 'nat', 'bat']"
      ]
     },
     "execution_count": 37,
     "metadata": {},
     "output_type": "execute_result"
    }
   ],
   "source": [
    "list(strs)"
   ]
  },
  {
   "cell_type": "code",
   "execution_count": 31,
   "id": "456e021c",
   "metadata": {},
   "outputs": [],
   "source": [
    "strs = [\"eat\",\"tea\",\"tan\",\"ate\",\"nat\",\"bat\"]"
   ]
  },
  {
   "cell_type": "code",
   "execution_count": 32,
   "id": "75679079",
   "metadata": {},
   "outputs": [],
   "source": [
    "strs.sort()"
   ]
  },
  {
   "cell_type": "code",
   "execution_count": 33,
   "id": "d47b0965",
   "metadata": {},
   "outputs": [
    {
     "data": {
      "text/plain": [
       "['ate', 'bat', 'eat', 'nat', 'tan', 'tea']"
      ]
     },
     "execution_count": 33,
     "metadata": {},
     "output_type": "execute_result"
    }
   ],
   "source": [
    "strs"
   ]
  },
  {
   "cell_type": "code",
   "execution_count": 38,
   "id": "6eba186d",
   "metadata": {},
   "outputs": [
    {
     "data": {
      "text/plain": [
       "'abc'"
      ]
     },
     "execution_count": 38,
     "metadata": {},
     "output_type": "execute_result"
    }
   ],
   "source": [
    "\"abc\""
   ]
  },
  {
   "cell_type": "code",
   "execution_count": 49,
   "id": "7fdf6302",
   "metadata": {},
   "outputs": [
    {
     "ename": "TypeError",
     "evalue": "can only join an iterable",
     "output_type": "error",
     "traceback": [
      "\u001b[0;31m---------------------------------------------------------------------------\u001b[0m",
      "\u001b[0;31mTypeError\u001b[0m                                 Traceback (most recent call last)",
      "Cell \u001b[0;32mIn[49], line 1\u001b[0m\n\u001b[0;32m----> 1\u001b[0m \u001b[38;5;124;43m\"\u001b[39;49m\u001b[38;5;124;43m\"\u001b[39;49m\u001b[38;5;241;43m.\u001b[39;49m\u001b[43mjoin\u001b[49m\u001b[43m(\u001b[49m\u001b[38;5;28;43mlist\u001b[39;49m\u001b[43m(\u001b[49m\u001b[38;5;124;43m\"\u001b[39;49m\u001b[38;5;124;43mabc\u001b[39;49m\u001b[38;5;124;43m\"\u001b[39;49m\u001b[43m)\u001b[49m\u001b[38;5;241;43m.\u001b[39;49m\u001b[43msort\u001b[49m\u001b[43m(\u001b[49m\u001b[43m)\u001b[49m\u001b[43m)\u001b[49m\n",
      "\u001b[0;31mTypeError\u001b[0m: can only join an iterable"
     ]
    }
   ],
   "source": [
    "\"\".join(list(\"abc\")"
   ]
  },
  {
   "cell_type": "code",
   "execution_count": 58,
   "id": "7331a6ae",
   "metadata": {},
   "outputs": [],
   "source": [
    "ans = collections.defaultdict(list)"
   ]
  },
  {
   "cell_type": "code",
   "execution_count": 59,
   "id": "0def0093",
   "metadata": {},
   "outputs": [
    {
     "data": {
      "text/plain": [
       "defaultdict(list, {})"
      ]
     },
     "execution_count": 59,
     "metadata": {},
     "output_type": "execute_result"
    }
   ],
   "source": [
    "ans"
   ]
  },
  {
   "cell_type": "code",
   "execution_count": 56,
   "id": "52647697",
   "metadata": {},
   "outputs": [
    {
     "ename": "ImportError",
     "evalue": "cannot import name 'counter' from 'collections' (/opt/homebrew/Cellar/python@3.10/3.10.12_1/Frameworks/Python.framework/Versions/3.10/lib/python3.10/collections/__init__.py)",
     "output_type": "error",
     "traceback": [
      "\u001b[0;31m---------------------------------------------------------------------------\u001b[0m",
      "\u001b[0;31mImportError\u001b[0m                               Traceback (most recent call last)",
      "Cell \u001b[0;32mIn[56], line 2\u001b[0m\n\u001b[1;32m      1\u001b[0m \u001b[38;5;28;01mimport\u001b[39;00m \u001b[38;5;21;01mcollections\u001b[39;00m\n\u001b[0;32m----> 2\u001b[0m \u001b[38;5;28;01mfrom\u001b[39;00m \u001b[38;5;21;01mcollections\u001b[39;00m \u001b[38;5;28;01mimport\u001b[39;00m counter\n",
      "\u001b[0;31mImportError\u001b[0m: cannot import name 'counter' from 'collections' (/opt/homebrew/Cellar/python@3.10/3.10.12_1/Frameworks/Python.framework/Versions/3.10/lib/python3.10/collections/__init__.py)"
     ]
    }
   ],
   "source": []
  },
  {
   "cell_type": "code",
   "execution_count": 57,
   "id": "86e25643",
   "metadata": {},
   "outputs": [],
   "source": [
    "import collections\n"
   ]
  },
  {
   "cell_type": "code",
   "execution_count": 60,
   "id": "e40bdaa2",
   "metadata": {},
   "outputs": [],
   "source": [
    "ans[\"deepak\"].append(20)"
   ]
  },
  {
   "cell_type": "code",
   "execution_count": 61,
   "id": "cd0c5592",
   "metadata": {},
   "outputs": [
    {
     "data": {
      "text/plain": [
       "defaultdict(list, {'deepak': [20]})"
      ]
     },
     "execution_count": 61,
     "metadata": {},
     "output_type": "execute_result"
    }
   ],
   "source": [
    "ans"
   ]
  },
  {
   "cell_type": "code",
   "execution_count": 66,
   "id": "84571eaa",
   "metadata": {},
   "outputs": [],
   "source": [
    "ans[\"deepak\"].append(20)"
   ]
  },
  {
   "cell_type": "code",
   "execution_count": 67,
   "id": "e14ab3ae",
   "metadata": {},
   "outputs": [
    {
     "data": {
      "text/plain": [
       "defaultdict(list, {'deepak': [20, 20], 'deepak1': [21, 20]})"
      ]
     },
     "execution_count": 67,
     "metadata": {},
     "output_type": "execute_result"
    }
   ],
   "source": [
    "ans"
   ]
  },
  {
   "cell_type": "code",
   "execution_count": 68,
   "id": "22e8cb2f",
   "metadata": {},
   "outputs": [
    {
     "data": {
      "text/plain": [
       "dict_values([[20, 20], [21, 20]])"
      ]
     },
     "execution_count": 68,
     "metadata": {},
     "output_type": "execute_result"
    }
   ],
   "source": [
    "ans.values()"
   ]
  },
  {
   "cell_type": "code",
   "execution_count": 69,
   "id": "54b72c86",
   "metadata": {},
   "outputs": [
    {
     "data": {
      "text/plain": [
       "collections.defaultdict"
      ]
     },
     "execution_count": 69,
     "metadata": {},
     "output_type": "execute_result"
    }
   ],
   "source": [
    "type(ans)"
   ]
  },
  {
   "cell_type": "code",
   "execution_count": 70,
   "id": "c348c8c7",
   "metadata": {},
   "outputs": [
    {
     "data": {
      "text/plain": [
       "[[20, 20], [21, 20]]"
      ]
     },
     "execution_count": 70,
     "metadata": {},
     "output_type": "execute_result"
    }
   ],
   "source": [
    "list(ans.values())"
   ]
  },
  {
   "cell_type": "code",
   "execution_count": 76,
   "id": "49b38bce",
   "metadata": {},
   "outputs": [
    {
     "name": "stdout",
     "output_type": "stream",
     "text": [
      "['aet', 'aet', 'ant', 'aet', 'ant', 'abt']\n"
     ]
    }
   ],
   "source": [
    "strs = [\"eat\",\"tea\",\"tan\",\"ate\",\"nat\",\"bat\"]\n",
    "newarray = []\n",
    "for element in strs:\n",
    "    temp = list(element)\n",
    "    temp.sort()\n",
    "    #print(element)\n",
    "    newarray.append(\"\".join(temp))\n",
    "print(newarray)"
   ]
  },
  {
   "cell_type": "code",
   "execution_count": 86,
   "id": "a3cdd5b1",
   "metadata": {},
   "outputs": [
    {
     "name": "stdout",
     "output_type": "stream",
     "text": [
      "['aet', 'aet', 'ant', 'aet', 'ant', 'abt']\n",
      "{'aet': [0, 1, 3], 'ant': [2, 4], 'abt': [5]}\n",
      "the result is ::: [['eat', 'tea', 'ate'], ['tan', 'nat'], ['bat']]\n"
     ]
    }
   ],
   "source": [
    "strs = [\"eat\",\"tea\",\"tan\",\"ate\",\"nat\",\"bat\"]\n",
    "newarray = []\n",
    "for element in strs:\n",
    "    temp = list(element)\n",
    "    temp.sort()\n",
    "    #print(element)\n",
    "    newarray.append(\"\".join(temp))\n",
    "print(newarray)\n",
    "dict ={}\n",
    "for idx in range(len(newarray)):\n",
    "    if newarray[idx] not in dict:\n",
    "        dict[newarray[idx]] = [idx]\n",
    "    else:\n",
    "        dict[newarray[idx]].append(idx)\n",
    "print(dict)\n",
    "\n",
    "result = []\n",
    "for val in dict:\n",
    "    temp = []\n",
    "    for validx in dict[val]:\n",
    "        #print(strs, val)\n",
    "        temp.append(strs[validx])\n",
    "    result.append(temp)\n",
    "print(\"the result is :::\", result)        "
   ]
  },
  {
   "cell_type": "code",
   "execution_count": 82,
   "id": "5f5116a4",
   "metadata": {},
   "outputs": [
    {
     "data": {
      "text/plain": [
       "'eat'"
      ]
     },
     "execution_count": 82,
     "metadata": {},
     "output_type": "execute_result"
    }
   ],
   "source": [
    "strs[0]"
   ]
  },
  {
   "cell_type": "code",
   "execution_count": 106,
   "id": "4e732b88",
   "metadata": {},
   "outputs": [],
   "source": [
    "s = \"abc\""
   ]
  },
  {
   "cell_type": "code",
   "execution_count": 136,
   "id": "3d9f9af6",
   "metadata": {},
   "outputs": [],
   "source": [
    "\n",
    "def generate_all_subsets(s):\n",
    "    \"\"\"\n",
    "    Args:\n",
    "     s(str)\n",
    "    Returns:\n",
    "     list_str\n",
    "    \"\"\"\n",
    "    # Write your code here.\n",
    "    result = []\n",
    "    def helper(s,i,slate):\n",
    "        if i == len(s):\n",
    "            result.append(\"\".join(slate))\n",
    "        else:\n",
    "            slate.append(s[i])\n",
    "            helper(s,i+1,slate)\n",
    "            slate.pop()\n",
    "            helper(s,i+1,slate)\n",
    "    helper(s,0, [])\n",
    "    return result\n"
   ]
  },
  {
   "cell_type": "code",
   "execution_count": 137,
   "id": "ad2bbcec",
   "metadata": {},
   "outputs": [
    {
     "data": {
      "text/plain": [
       "['abc', 'ab', 'ac', 'a', 'bc', 'b', 'c', '']"
      ]
     },
     "execution_count": 137,
     "metadata": {},
     "output_type": "execute_result"
    }
   ],
   "source": [
    "generate_all_subsets(s)"
   ]
  },
  {
   "cell_type": "code",
   "execution_count": 168,
   "id": "6ae21c93",
   "metadata": {},
   "outputs": [
    {
     "data": {
      "text/plain": [
       "[['1', '2', '3'],\n",
       " ['1', '3', '2'],\n",
       " ['2', '1', '3'],\n",
       " ['2', '3', '1'],\n",
       " ['3', '2', '1'],\n",
       " ['3', '1', '2']]"
      ]
     },
     "execution_count": 168,
     "metadata": {},
     "output_type": "execute_result"
    }
   ],
   "source": [
    "s = ['1','2','3']\n",
    "def generatesubset(s):\n",
    "    result = []\n",
    "    def helper(s,i,slate):\n",
    "        if i == len(s):\n",
    "            result.append(slate[:])\n",
    "        else:\n",
    "            for idx in range(i,len(s)):\n",
    "                s[idx],s[i] = s[i],s[idx]\n",
    "                slate.append(s[i])\n",
    "                helper(s,i+1,slate)\n",
    "                slate.pop()\n",
    "                s[idx],s[i] = s[i],s[idx]\n",
    "    helper(s,0,[])\n",
    "    return result\n",
    "generatesubset(s)"
   ]
  },
  {
   "cell_type": "code",
   "execution_count": 170,
   "id": "80cb6d8d",
   "metadata": {},
   "outputs": [
    {
     "data": {
      "text/plain": [
       "['123', '133', '223', '233', '323', '333']"
      ]
     },
     "execution_count": 170,
     "metadata": {},
     "output_type": "execute_result"
    }
   ],
   "source": [
    "number = \"123\"\n",
    "result = []\n",
    "def permutations(number):\n",
    "    def helper(s,i,slate):\n",
    "        if i == len(s):\n",
    "            result.append(\"\".join(slate[:]))\n",
    "        else:\n",
    "            for idx in range(i,len(s)):\n",
    "                slate.append(s[idx])\n",
    "                helper(s,i+1,slate)\n",
    "                slate.pop()\n",
    "    helper(number,0,[])\n",
    "    return result\n",
    "\n",
    "permutations(number)"
   ]
  },
  {
   "cell_type": "code",
   "execution_count": 171,
   "id": "c9754eaa",
   "metadata": {},
   "outputs": [],
   "source": [
    "result = ['1','2','3']"
   ]
  },
  {
   "cell_type": "raw",
   "id": "f6f87556",
   "metadata": {},
   "source": []
  }
 ],
 "metadata": {
  "kernelspec": {
   "display_name": "Python 3 (ipykernel)",
   "language": "python",
   "name": "python3"
  },
  "language_info": {
   "codemirror_mode": {
    "name": "ipython",
    "version": 3
   },
   "file_extension": ".py",
   "mimetype": "text/x-python",
   "name": "python",
   "nbconvert_exporter": "python",
   "pygments_lexer": "ipython3",
   "version": "3.10.12"
  }
 },
 "nbformat": 4,
 "nbformat_minor": 5
}
